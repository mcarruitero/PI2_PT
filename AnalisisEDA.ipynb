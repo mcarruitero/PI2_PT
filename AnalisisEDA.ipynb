{
 "cells": [
  {
   "cell_type": "markdown",
   "metadata": {},
   "source": [
    "# EDA\n",
    " \n",
    "El proyecto contiene un análisis exploratorio de datos (EDA) de la información recuperada de los datos abiertos de ENACOM\n",
    "\n",
    "### Fuente de datos\n",
    "Se tienen como fuente de datos los siguientes archivos excel de ENACOM\n",
    "[Datasets principales](https://indicadores.enacom.gob.ar/datos-abiertos)\n",
    "- Internet.xlsx (obligatorio)\n",
    "- Telefonia_movil.xlsx\n",
    "- Television.xlsx\n",
    "- telefonia_fija.xlsx\n",
    "- Portabilidad.xlsx\n",
    "- servicios_postales.xlsx\n",
    "- mapa_conectividad.xlsx"
   ]
  },
  {
   "cell_type": "markdown",
   "metadata": {},
   "source": [
    "Se importan las siguientes librerias"
   ]
  },
  {
   "cell_type": "code",
   "execution_count": 1,
   "metadata": {},
   "outputs": [],
   "source": [
    "import pandas as pd\n",
    "import numpy as np\n",
    "import re\n",
    "import matplotlib.pyplot as plt\n",
    "import seaborn as sns\n",
    "from matplotlib.ticker import FuncFormatter\n",
    "import geopandas as gpd\n",
    "import pyproj as CRS\n",
    "import warnings\n",
    "warnings.filterwarnings(\"ignore\")"
   ]
  },
  {
   "cell_type": "markdown",
   "metadata": {},
   "source": [
    "### Acceso por Tecnologia"
   ]
  },
  {
   "cell_type": "code",
   "execution_count": 2,
   "metadata": {},
   "outputs": [],
   "source": [
    "df_at = pd.read_excel('Data/Internet.xlsx', sheet_name='Accesos Por Tecnología')"
   ]
  },
  {
   "cell_type": "markdown",
   "metadata": {},
   "source": [
    "Se muestran los primeros registros\n",
    "\n",
    "Los datos corresponden a los tipos de acceso a internet por año trimestres y provincia"
   ]
  },
  {
   "cell_type": "code",
   "execution_count": 3,
   "metadata": {},
   "outputs": [
    {
     "data": {
      "text/html": [
       "<div>\n",
       "<style scoped>\n",
       "    .dataframe tbody tr th:only-of-type {\n",
       "        vertical-align: middle;\n",
       "    }\n",
       "\n",
       "    .dataframe tbody tr th {\n",
       "        vertical-align: top;\n",
       "    }\n",
       "\n",
       "    .dataframe thead th {\n",
       "        text-align: right;\n",
       "    }\n",
       "</style>\n",
       "<table border=\"1\" class=\"dataframe\">\n",
       "  <thead>\n",
       "    <tr style=\"text-align: right;\">\n",
       "      <th></th>\n",
       "      <th>Año</th>\n",
       "      <th>Trimestre</th>\n",
       "      <th>Provincia</th>\n",
       "      <th>ADSL</th>\n",
       "      <th>Cablemodem</th>\n",
       "      <th>Fibra óptica</th>\n",
       "      <th>Wireless</th>\n",
       "      <th>Otros</th>\n",
       "      <th>Total</th>\n",
       "    </tr>\n",
       "  </thead>\n",
       "  <tbody>\n",
       "    <tr>\n",
       "      <th>0</th>\n",
       "      <td>2024</td>\n",
       "      <td>1</td>\n",
       "      <td>Buenos Aires</td>\n",
       "      <td>203297.0</td>\n",
       "      <td>2790663.0</td>\n",
       "      <td>1799013.0</td>\n",
       "      <td>150290.0</td>\n",
       "      <td>101294.0</td>\n",
       "      <td>5044557.0</td>\n",
       "    </tr>\n",
       "    <tr>\n",
       "      <th>1</th>\n",
       "      <td>2024</td>\n",
       "      <td>1</td>\n",
       "      <td>Capital Federal</td>\n",
       "      <td>70108.0</td>\n",
       "      <td>1177475.0</td>\n",
       "      <td>203756.0</td>\n",
       "      <td>4493.0</td>\n",
       "      <td>48879.0</td>\n",
       "      <td>1504711.0</td>\n",
       "    </tr>\n",
       "    <tr>\n",
       "      <th>2</th>\n",
       "      <td>2024</td>\n",
       "      <td>1</td>\n",
       "      <td>Catamarca</td>\n",
       "      <td>5901.0</td>\n",
       "      <td>11025.0</td>\n",
       "      <td>56542.0</td>\n",
       "      <td>1384.0</td>\n",
       "      <td>81.0</td>\n",
       "      <td>74933.0</td>\n",
       "    </tr>\n",
       "    <tr>\n",
       "      <th>3</th>\n",
       "      <td>2024</td>\n",
       "      <td>1</td>\n",
       "      <td>Chaco</td>\n",
       "      <td>11343.0</td>\n",
       "      <td>58929.0</td>\n",
       "      <td>64463.0</td>\n",
       "      <td>8404.0</td>\n",
       "      <td>12404.0</td>\n",
       "      <td>155543.0</td>\n",
       "    </tr>\n",
       "    <tr>\n",
       "      <th>4</th>\n",
       "      <td>2024</td>\n",
       "      <td>1</td>\n",
       "      <td>Chubut</td>\n",
       "      <td>26306.0</td>\n",
       "      <td>77217.0</td>\n",
       "      <td>26356.0</td>\n",
       "      <td>30867.0</td>\n",
       "      <td>9930.0</td>\n",
       "      <td>170676.0</td>\n",
       "    </tr>\n",
       "  </tbody>\n",
       "</table>\n",
       "</div>"
      ],
      "text/plain": [
       "    Año Trimestre        Provincia      ADSL  Cablemodem  Fibra óptica  \\\n",
       "0  2024         1     Buenos Aires  203297.0   2790663.0     1799013.0   \n",
       "1  2024         1  Capital Federal   70108.0   1177475.0      203756.0   \n",
       "2  2024         1        Catamarca    5901.0     11025.0       56542.0   \n",
       "3  2024         1            Chaco   11343.0     58929.0       64463.0   \n",
       "4  2024         1           Chubut   26306.0     77217.0       26356.0   \n",
       "\n",
       "   Wireless     Otros      Total  \n",
       "0  150290.0  101294.0  5044557.0  \n",
       "1    4493.0   48879.0  1504711.0  \n",
       "2    1384.0      81.0    74933.0  \n",
       "3    8404.0   12404.0   155543.0  \n",
       "4   30867.0    9930.0   170676.0  "
      ]
     },
     "execution_count": 3,
     "metadata": {},
     "output_type": "execute_result"
    }
   ],
   "source": [
    "df_at.head()"
   ]
  },
  {
   "cell_type": "markdown",
   "metadata": {},
   "source": [
    "Se procede a realizar la extraccion transformacion y carga de los Datos\n",
    "\n",
    "Se muestra la informacion de las variables"
   ]
  },
  {
   "cell_type": "code",
   "execution_count": 4,
   "metadata": {},
   "outputs": [
    {
     "name": "stdout",
     "output_type": "stream",
     "text": [
      "<class 'pandas.core.frame.DataFrame'>\n",
      "RangeIndex: 986 entries, 0 to 985\n",
      "Data columns (total 9 columns):\n",
      " #   Column        Non-Null Count  Dtype  \n",
      "---  ------        --------------  -----  \n",
      " 0   Año           985 non-null    object \n",
      " 1   Trimestre     985 non-null    object \n",
      " 2   Provincia     984 non-null    object \n",
      " 3   ADSL          984 non-null    float64\n",
      " 4   Cablemodem    984 non-null    float64\n",
      " 5   Fibra óptica  984 non-null    float64\n",
      " 6   Wireless      984 non-null    float64\n",
      " 7   Otros         984 non-null    float64\n",
      " 8   Total         984 non-null    float64\n",
      "dtypes: float64(6), object(3)\n",
      "memory usage: 69.5+ KB\n"
     ]
    }
   ],
   "source": [
    "df_at.info()"
   ]
  },
  {
   "cell_type": "markdown",
   "metadata": {},
   "source": [
    "Se muestran los valores nulos detectados"
   ]
  },
  {
   "cell_type": "code",
   "execution_count": 5,
   "metadata": {},
   "outputs": [
    {
     "name": "stdout",
     "output_type": "stream",
     "text": [
      "Año             1\n",
      "Trimestre       1\n",
      "Provincia       2\n",
      "ADSL            2\n",
      "Cablemodem      2\n",
      "Fibra óptica    2\n",
      "Wireless        2\n",
      "Otros           2\n",
      "Total           2\n",
      "dtype: int64\n"
     ]
    }
   ],
   "source": [
    "print(df_at.isnull().sum())"
   ]
  },
  {
   "cell_type": "markdown",
   "metadata": {},
   "source": [
    "Se muestran los registros con provincia nula"
   ]
  },
  {
   "cell_type": "code",
   "execution_count": 6,
   "metadata": {},
   "outputs": [
    {
     "name": "stdout",
     "output_type": "stream",
     "text": [
      "     Año                                          Trimestre Provincia  ADSL  \\\n",
      "984  NaN                                                NaN       NaN   NaN   \n",
      "985    *  Los datos provinciales no coinciden a nivel na...       NaN   NaN   \n",
      "\n",
      "     Cablemodem  Fibra óptica  Wireless  Otros  Total  \n",
      "984         NaN           NaN       NaN    NaN    NaN  \n",
      "985         NaN           NaN       NaN    NaN    NaN  \n"
     ]
    }
   ],
   "source": [
    "print(df_at[df_at['Provincia'].isnull()])"
   ]
  },
  {
   "cell_type": "markdown",
   "metadata": {},
   "source": [
    "Se determina que hay dos registros con valores nulos e informacion resaltada en * se eliminan registros nulos"
   ]
  },
  {
   "cell_type": "code",
   "execution_count": 7,
   "metadata": {},
   "outputs": [],
   "source": [
    "df_at.dropna(subset=['Provincia'], inplace=True)"
   ]
  },
  {
   "cell_type": "markdown",
   "metadata": {},
   "source": [
    "Se muestran los valores duplicados"
   ]
  },
  {
   "cell_type": "code",
   "execution_count": 8,
   "metadata": {},
   "outputs": [
    {
     "name": "stdout",
     "output_type": "stream",
     "text": [
      "Empty DataFrame\n",
      "Columns: [Año, Trimestre, Provincia, ADSL, Cablemodem, Fibra óptica, Wireless, Otros, Total]\n",
      "Index: []\n"
     ]
    }
   ],
   "source": [
    "print(df_at[df_at.duplicated()])"
   ]
  },
  {
   "cell_type": "markdown",
   "metadata": {},
   "source": [
    "Se muestran los Años unicos"
   ]
  },
  {
   "cell_type": "code",
   "execution_count": 9,
   "metadata": {},
   "outputs": [
    {
     "name": "stdout",
     "output_type": "stream",
     "text": [
      "[2024 2023 2022 2021 2020 2019 '2019 *' 2018 2017 2016 2015 2014]\n"
     ]
    }
   ],
   "source": [
    "print(df_at['Año'].unique())"
   ]
  },
  {
   "cell_type": "markdown",
   "metadata": {},
   "source": [
    "Se muestran los Trimestres unicos"
   ]
  },
  {
   "cell_type": "code",
   "execution_count": 10,
   "metadata": {},
   "outputs": [
    {
     "name": "stdout",
     "output_type": "stream",
     "text": [
      "[1 4 3 2 '3 *' '2 *' '1 *']\n"
     ]
    }
   ],
   "source": [
    "print(df_at['Trimestre'].unique())"
   ]
  },
  {
   "cell_type": "markdown",
   "metadata": {},
   "source": [
    "Se eliminan los asteriscos de la columna Año asi como los espacios en blanco"
   ]
  },
  {
   "cell_type": "code",
   "execution_count": 11,
   "metadata": {},
   "outputs": [],
   "source": [
    "df_at['Año'] = df_at['Año'].astype(str).str.replace(r'\\*', '', regex=True).str.strip()"
   ]
  },
  {
   "cell_type": "markdown",
   "metadata": {},
   "source": [
    "Se eliminan los asteriscos de la columna Trimestre asi como los espacios en blanco"
   ]
  },
  {
   "cell_type": "code",
   "execution_count": 12,
   "metadata": {},
   "outputs": [],
   "source": [
    "df_at['Trimestre'] = df_at['Trimestre'].astype(str).str.replace(r'\\*', '', regex=True).str.strip()"
   ]
  },
  {
   "cell_type": "markdown",
   "metadata": {},
   "source": [
    "Se convierte el Año a numero entero"
   ]
  },
  {
   "cell_type": "code",
   "execution_count": 13,
   "metadata": {},
   "outputs": [],
   "source": [
    "df_at['Año'] = pd.to_numeric(df_at['Año'], errors='coerce').fillna(0).astype(int)"
   ]
  },
  {
   "cell_type": "markdown",
   "metadata": {},
   "source": [
    "Se convierte el Trimestre a numero entero"
   ]
  },
  {
   "cell_type": "code",
   "execution_count": 14,
   "metadata": {},
   "outputs": [],
   "source": [
    "df_at['Trimestre'] = pd.to_numeric(df_at['Trimestre'], errors='coerce').fillna(0).astype(int)"
   ]
  },
  {
   "cell_type": "markdown",
   "metadata": {},
   "source": [
    "Se convierten la columna ADSL, Cablemodem, Fibra óptica, Wireless, Otros y Total a numeros enteros"
   ]
  },
  {
   "cell_type": "code",
   "execution_count": 15,
   "metadata": {},
   "outputs": [],
   "source": [
    "df_at[['ADSL', 'Cablemodem', 'Fibra óptica', 'Wireless', 'Otros', 'Total']] = df_at[['ADSL', 'Cablemodem', 'Fibra óptica', 'Wireless', 'Otros', 'Total']].astype(int)"
   ]
  },
  {
   "cell_type": "markdown",
   "metadata": {},
   "source": [
    "Convertir trimestre a mes "
   ]
  },
  {
   "cell_type": "code",
   "execution_count": 42,
   "metadata": {},
   "outputs": [],
   "source": [
    "#def trimestre_a_mes(trimestre):\n",
    "#    return {\n",
    "#        1: '01',\n",
    "#        2: '04',\n",
    "#        3: '07',\n",
    "#        4: '10'\n",
    "#    }[trimestre]"
   ]
  },
  {
   "cell_type": "markdown",
   "metadata": {},
   "source": [
    "Crear columna de fecha en formato YYYY-MM-DD"
   ]
  },
  {
   "cell_type": "code",
   "execution_count": 16,
   "metadata": {},
   "outputs": [],
   "source": [
    "#df_at['Fecha'] = df_at.apply(lambda row: f\"{row['Año']}-{trimestre_a_mes(row['Trimestre'])}-01\", axis=1)\n",
    "\n",
    "df_at['Fecha'] = pd.to_datetime(df_at.apply(lambda x: f\"{x['Año']}-{x['Trimestre']*3-2}-01\", axis=1))"
   ]
  },
  {
   "cell_type": "markdown",
   "metadata": {},
   "source": [
    "Convertir columna 'Fecha' a tipo datetime"
   ]
  },
  {
   "cell_type": "code",
   "execution_count": 63,
   "metadata": {},
   "outputs": [],
   "source": [
    "#df_at['Fecha'] = pd.to_datetime(df_at['Fecha'])"
   ]
  },
  {
   "cell_type": "markdown",
   "metadata": {},
   "source": [
    "Agrupar por fecha para ver tendencias"
   ]
  },
  {
   "cell_type": "code",
   "execution_count": 17,
   "metadata": {},
   "outputs": [],
   "source": [
    "df_time_series = df_at.groupby('Fecha').sum()\n"
   ]
  },
  {
   "cell_type": "markdown",
   "metadata": {},
   "source": [
    "### Serie de Tiempo para detectar tendencias"
   ]
  },
  {
   "cell_type": "code",
   "execution_count": 18,
   "metadata": {},
   "outputs": [
    {
     "data": {
      "image/png": "[encoded data removed]",
      "text/plain": [
       "<Figure size 1000x500 with 1 Axes>"
      ]
     },
     "metadata": {},
     "output_type": "display_data"
    },
    {
     "data": {
      "image/png": "[encoded data removed]",
      "text/plain": [
       "<Figure size 1000x500 with 1 Axes>"
      ]
     },
     "metadata": {},
     "output_type": "display_data"
    }
   ],
   "source": [
    "plt.figure(figsize=(10,5))\n",
    "df_time_series['Total'].plot()\n",
    "plt.title(f'Evolución del Total de Accesos a Internet')\n",
    "plt.ylabel('Accesos a Internet')\n",
    "plt.show()\n",
    "plt.figure(figsize=(10,5))\n",
    "for i, col in enumerate(['ADSL', 'Cablemodem', 'Fibra óptica', 'Wireless', 'Otros']):\n",
    "    df_time_series[col].plot()\n",
    "    plt.title(f'Evolución del Total de Accesos a Internet por Tecnologia')\n",
    "plt.legend()\n",
    "plt.ylabel('Accesos a Internet')\n",
    "plt.show()"
   ]
  },
  {
   "cell_type": "markdown",
   "metadata": {},
   "source": [
    "### Descripción General de los Gráficos\n",
    "Los gráficos presentados muestran la evolución en el tiempo del número de accesos a internet en Argentina, divididas por tipo de tecnología (ADSL, cablemódem, fibra óptica, wireless, otros y el total). Cada línea representa la cantidad de accesos para un tipo de tecnología específico a lo largo de los años.\n",
    "\n",
    "### Interpretación de las Tendencias\n",
    "### Tendencias Generales:\n",
    "Declive del ADSL: Se observa una clara tendencia a la baja en el número de accesos ADSL a lo largo de todo el período. Esto es esperable debido a la obsolescencia de esta tecnología y la mayor adopción de opciones más rápidas y estables.\n",
    "\n",
    "Crecimiento sostenido del cablemódem y fibra óptica: Tanto el cablemódem como la fibra óptica muestran un crecimiento constante durante el período analizado. Esto indica una migración de los usuarios hacia tecnologías de mayor ancho de banda.\n",
    "\n",
    "Expansión del wireless: Los accesos wireless también experimentaron un crecimiento significativo, especialmente en los últimos años. Esto se debe al aumento de la penetración de dispositivos móviles y la expansión de las redes inalámbricas.\n",
    "\n",
    "Volatilidad en \"Otros\": La categoría \"Otros\" presenta una mayor variabilidad, lo que podría indicar la inclusión de tecnologías emergentes o menos comunes que experimentan fluctuaciones en su adopción.\n",
    "\n",
    "Crecimiento sostenido del total: A pesar del declive del ADSL, el número total de accesos a internet muestra un crecimiento continuo, impulsado principalmente por el aumento de las conexiones de cablemódem, fibra óptica y wireless.\n",
    "\n",
    "### Tendencias Específicas:\n",
    "Aceleración en la adopción de fibra óptica: En los últimos años, se observa una aceleración en el crecimiento de los accesos de fibra óptica, lo que sugiere una mayor inversión en infraestructura y una demanda creciente por velocidades de conexión más altas.\n",
    "\n",
    "Estabilización del cablemódem: El crecimiento del cablemódem parece haberse estabilizado en los últimos años, lo que podría indicar una saturación del mercado o una competencia más intensa con la fibra óptica.\n",
    "\n",
    "Fluctuaciones en el wireless: Las conexiones wireless presentan cierta estacionalidad o fluctuaciones relacionadas con eventos específicos (por ejemplo, promociones, lanzamientos de nuevos dispositivos).\n",
    "\n",
    "### Resumen:\n",
    "En resumen, los gráficos muestran una clara evolución en el panorama de las conexiones a internet en Argentina, con un desplazamiento hacia tecnologías de mayor velocidad y capacidad. Sin embargo, es necesario realizar un análisis más profundo para comprender las causas de estas tendencias y sus implicaciones para el futuro.\n",
    "\n"
   ]
  },
  {
   "cell_type": "markdown",
   "metadata": {},
   "source": [
    "Se guarda el archivo de Accesos por Tecnología"
   ]
  },
  {
   "cell_type": "code",
   "execution_count": 19,
   "metadata": {},
   "outputs": [],
   "source": [
    "df_at.to_excel('Dataframe/df_at.xlsx',index=False, sheet_name='Accesos Por Tecnología')"
   ]
  },
  {
   "cell_type": "markdown",
   "metadata": {},
   "source": [
    "### Acceso de internet por cada 100 hogares\n",
    "Se lee el primer archivo Internet.xlsx y la hoja Penetracion-hogares"
   ]
  },
  {
   "cell_type": "code",
   "execution_count": 20,
   "metadata": {},
   "outputs": [],
   "source": [
    "df_ph = pd.read_excel('Data/Internet.xlsx', sheet_name='Penetracion-hogares')"
   ]
  },
  {
   "cell_type": "markdown",
   "metadata": {},
   "source": [
    "Se muestran los primeros registros\n",
    "\n",
    "Los datos corresponden a los tipos accesos a internet por cada 100 hogares por año trimestres y provincia"
   ]
  },
  {
   "cell_type": "code",
   "execution_count": 21,
   "metadata": {},
   "outputs": [
    {
     "data": {
      "text/html": [
       "<div>\n",
       "<style scoped>\n",
       "    .dataframe tbody tr th:only-of-type {\n",
       "        vertical-align: middle;\n",
       "    }\n",
       "\n",
       "    .dataframe tbody tr th {\n",
       "        vertical-align: top;\n",
       "    }\n",
       "\n",
       "    .dataframe thead th {\n",
       "        text-align: right;\n",
       "    }\n",
       "</style>\n",
       "<table border=\"1\" class=\"dataframe\">\n",
       "  <thead>\n",
       "    <tr style=\"text-align: right;\">\n",
       "      <th></th>\n",
       "      <th>Año</th>\n",
       "      <th>Trimestre</th>\n",
       "      <th>Provincia</th>\n",
       "      <th>Accesos por cada 100 hogares</th>\n",
       "    </tr>\n",
       "  </thead>\n",
       "  <tbody>\n",
       "    <tr>\n",
       "      <th>0</th>\n",
       "      <td>2024</td>\n",
       "      <td>1</td>\n",
       "      <td>Buenos Aires</td>\n",
       "      <td>81.10</td>\n",
       "    </tr>\n",
       "    <tr>\n",
       "      <th>1</th>\n",
       "      <td>2024</td>\n",
       "      <td>1</td>\n",
       "      <td>Capital Federal</td>\n",
       "      <td>119.53</td>\n",
       "    </tr>\n",
       "    <tr>\n",
       "      <th>2</th>\n",
       "      <td>2024</td>\n",
       "      <td>1</td>\n",
       "      <td>Catamarca</td>\n",
       "      <td>68.82</td>\n",
       "    </tr>\n",
       "    <tr>\n",
       "      <th>3</th>\n",
       "      <td>2024</td>\n",
       "      <td>1</td>\n",
       "      <td>Chaco</td>\n",
       "      <td>46.70</td>\n",
       "    </tr>\n",
       "    <tr>\n",
       "      <th>4</th>\n",
       "      <td>2024</td>\n",
       "      <td>1</td>\n",
       "      <td>Chubut</td>\n",
       "      <td>84.89</td>\n",
       "    </tr>\n",
       "  </tbody>\n",
       "</table>\n",
       "</div>"
      ],
      "text/plain": [
       "    Año  Trimestre        Provincia  Accesos por cada 100 hogares\n",
       "0  2024          1     Buenos Aires                         81.10\n",
       "1  2024          1  Capital Federal                        119.53\n",
       "2  2024          1        Catamarca                         68.82\n",
       "3  2024          1            Chaco                         46.70\n",
       "4  2024          1           Chubut                         84.89"
      ]
     },
     "execution_count": 21,
     "metadata": {},
     "output_type": "execute_result"
    }
   ],
   "source": [
    "df_ph.head()"
   ]
  },
  {
   "cell_type": "markdown",
   "metadata": {},
   "source": [
    "Se muestra la informacion de las variables"
   ]
  },
  {
   "cell_type": "code",
   "execution_count": 22,
   "metadata": {},
   "outputs": [
    {
     "name": "stdout",
     "output_type": "stream",
     "text": [
      "<class 'pandas.core.frame.DataFrame'>\n",
      "RangeIndex: 984 entries, 0 to 983\n",
      "Data columns (total 4 columns):\n",
      " #   Column                        Non-Null Count  Dtype  \n",
      "---  ------                        --------------  -----  \n",
      " 0   Año                           984 non-null    int64  \n",
      " 1   Trimestre                     984 non-null    int64  \n",
      " 2   Provincia                     984 non-null    object \n",
      " 3   Accesos por cada 100 hogares  984 non-null    float64\n",
      "dtypes: float64(1), int64(2), object(1)\n",
      "memory usage: 30.9+ KB\n"
     ]
    }
   ],
   "source": [
    "df_ph.info()"
   ]
  },
  {
   "cell_type": "markdown",
   "metadata": {},
   "source": [
    "Crear columna de fecha en formato YYYY-MM-DD"
   ]
  },
  {
   "cell_type": "code",
   "execution_count": 23,
   "metadata": {},
   "outputs": [],
   "source": [
    "df_ph['Fecha'] = pd.to_datetime(df_ph.apply(lambda x: f\"{x['Año']}-{x['Trimestre']*3-2}-01\", axis=1))"
   ]
  },
  {
   "cell_type": "markdown",
   "metadata": {},
   "source": [
    "Crearemos un gráfico de cajas para ver las distribuciones, variabilidad de los datos y diferencias entre los accessos cada 100 hogares en las distintas provincias."
   ]
  },
  {
   "cell_type": "code",
   "execution_count": 24,
   "metadata": {},
   "outputs": [
    {
     "data": {
      "image/png": "[encoded data removed]",
      "text/plain": [
       "<Figure size 800x600 with 1 Axes>"
      ]
     },
     "metadata": {},
     "output_type": "display_data"
    }
   ],
   "source": [
    "plt.figure(figsize=(8, 6))\n",
    "sns.boxplot(x='Provincia', y='Accesos por cada 100 hogares',hue='Provincia', data= df_ph );\n",
    "plt.xticks(rotation=90)\n",
    "plt.show()"
   ]
  },
  {
   "cell_type": "markdown",
   "metadata": {},
   "source": [
    "### Análisis del Gráfico de Boxplot: Acceso a Internet cada 100 hogares por Provincia en Argentina\n",
    "\n",
    "### Descripción del Gráfico\n",
    "El gráfico de boxplot presentado ofrece una visual clara de la distribución de los accesos a internet por cada 100 hogares en las diferentes provincias de Argentina. Cada caja representa una provincia, y los elementos dentro de cada caja nos proporcionan información sobre la distribución de los datos.\n",
    "\n",
    "### Interpretación de los Resultados\n",
    "Desigualdad en el acceso: El gráfico muestra una clara desigualdad en el acceso a internet entre las diferentes provincias argentinas. Algunas provincias, como Buenos Aires, Tierra del Fuego, Capital Federal y La Pampa presentan una mediana y un rango superior, lo que indica una mayor penetración de internet en los hogares. Por otro lado, provincias como Chaco y Formosa muestran una mediana y un rango inferior, lo que sugiere una menor disponibilidad de servicios de internet.\n",
    "\n",
    "Variabilidad entre provincias: La altura de las cajas y la longitud de los bigotes varían considerablemente entre las provincias, lo que indica una alta variabilidad en la distribución de los accesos a internet. Esto sugiere que factores como la infraestructura, la densidad poblacional y el nivel socioeconómico influyen significativamente en la disponibilidad de servicios de internet a nivel provincial.\n",
    "\n",
    "Presencia de valores atípicos (outliers): Algunos puntos aislados (valores atípicos) se observan en algunas provincias, lo que indica que existen hogares con un acceso a internet mucho mayor o menor que el promedio de su provincia. Estos valores atípicos podrían estar relacionados con factores específicos de esas localidades, como la presencia de centros urbanos o rurales, o la disponibilidad de servicios de alta velocidad.\n",
    "\n",
    "### Resumen\n",
    "En resumen, el gráfico de boxplot proporciona una visión general de la desigualdad en el acceso a internet en Argentina."
   ]
  },
  {
   "cell_type": "markdown",
   "metadata": {},
   "source": [
    "Se guarda el archivo de Penetracion-hogares"
   ]
  },
  {
   "cell_type": "code",
   "execution_count": 25,
   "metadata": {},
   "outputs": [],
   "source": [
    "df_ph.to_excel('Dataframe/df_ph.xlsx',index=False, sheet_name='Penetracion-hogares')"
   ]
  },
  {
   "cell_type": "markdown",
   "metadata": {},
   "source": [
    "### Accesos por Tecnología Provincia en 2024-1\n",
    "Ahora viduslizaremos los datos de df_at de accesos por tecnología por provincia del año 2024-1 y eliminamos los campos 'Total', 'Año', 'Trimestre', 'Otros', 'Fecha'"
   ]
  },
  {
   "cell_type": "code",
   "execution_count": 26,
   "metadata": {},
   "outputs": [],
   "source": [
    "data = df_at[df_at['Año'] == 2024]\n",
    "data = data.drop(columns=['Total', 'Año', 'Trimestre', 'Otros','Fecha'])"
   ]
  },
  {
   "cell_type": "markdown",
   "metadata": {},
   "source": [
    "Mostramos el gráfico de Barras de accesos por provincia y tecnología el ultimo año 2024"
   ]
  },
  {
   "cell_type": "code",
   "execution_count": 27,
   "metadata": {},
   "outputs": [],
   "source": [
    "data = pd.melt(data, id_vars='Provincia', var_name='Tecnologías', value_name='Value')"
   ]
  },
  {
   "cell_type": "code",
   "execution_count": 28,
   "metadata": {},
   "outputs": [
    {
     "data": {
      "image/png": "[encoded data removed]",
      "text/plain": [
       "<Figure size 1200x600 with 1 Axes>"
      ]
     },
     "metadata": {},
     "output_type": "display_data"
    }
   ],
   "source": [
    "#Gráfico de barras Seaborn\n",
    "plt.figure(figsize=(12, 6))\n",
    "sns.barplot(data=data,x='Provincia', y='Value', hue= 'Tecnologías')\n",
    "plt.xlabel('Provincia')\n",
    "plt.ylabel('Accesos')\n",
    "plt.title('Accesos totales por provincia y tecnología 2024-1')\n",
    "plt.xticks(rotation=75)\n",
    "plt.legend(title='Tecnologías');"
   ]
  },
  {
   "cell_type": "markdown",
   "metadata": {},
   "source": [
    "### Descripción del Gráfico\n",
    "El gráfico presenta una comparación de los accesos a internet por provincia en Argentina, desglosados por tecnología (ADSL,Cablemodem, Fibra Óptica y Wireless). Cada barra representa una provincia, y la altura de cada segmento de la barra indica el\n",
    "número de accesos para cada tecnología.\n",
    "\n",
    "\n",
    "### Interpretación de Resultados:\n",
    "\n",
    "Dominancia de Buenos Aires y Capital Federal: Estas dos jurisdicciones concentran una proporción significativa de los accesos totales a internet, en todas las tecnologías. Esto es esperable debido a su mayor densidad poblacional y desarrollo económico.\n",
    "\n",
    "Variabilidad entre provincias: Existe una gran disparidad en el número de accesos entre provincias. Algunas provincias, además de Buenos Aires y Capital Federal, como Córdoba y Santa Fe, presentan un número considerable de accesos, mientras que otras, como Formosa y La Rioja, tienen un número significativamente menor.\n",
    "\n",
    "Fibra Óptica como tecnología predominante: En general, la fibra óptica parece ser la tecnología con mayor crecimiento y penetración en las provincias, superando a ADSL y cablemódem en muchas jurisdicciones. Esto indica una tendencia hacia conexiones de mayor velocidad y estabilidad.\n",
    "\n",
    "Presencia de todas las tecnologías: A pesar de la creciente popularidad de la fibra óptica, todas las tecnologías analizadas siguen estando presentes en todas las provincias, lo que sugiere una diversidad de opciones para los usuarios, aunque con diferentes niveles de penetración.\n",
    "\n",
    "Wireless como complemento: La tecnología wireless, que incluye conexiones móviles y Wi-Fi, complementa a las tecnologías fijas especialmente en áreas rurales o con menor infraestructura.\n",
    "\n",
    "### Análisis por Tecnología\n",
    "\n",
    "ADSL: Esta tecnología, aunque todavía presente, muestra una tendencia a la baja en muchas provincias, siendo superada por otras opciones como la fibra óptica y el cablemódem. Esto se debe a las limitaciones en términos de velocidad y estabilidad que presenta ADSL.\n",
    "\n",
    "Cablemódem: El cablemódem sigue siendo una opción popular en muchas provincias, especialmente en áreas urbanas. Sin embargo, su crecimiento se ha visto limitado por la expansión de la fibra óptica.\n",
    "\n",
    "Fibra Óptica: La fibra óptica es la tecnología que ha experimentado un mayor crecimiento en los últimos años, ofreciendo velocidades de conexión mucho más altas y una mayor estabilidad. Su expansión ha sido impulsada por inversiones de los operadores y por las demandas de los usuarios.\n",
    "\n",
    "Wireless: La tecnología wireless ha ganado importancia en los últimos años, especialmente en áreas rurales y en dispositivos móviles. Sin embargo, su velocidad y estabilidad pueden variar dependiendo de la infraestructura y la cobertura.\n",
    "\n",
    "### Conclusiones\n",
    "Brecha digital: Los datos del gráfico evidencian una brecha digital entre las provincias, con algunas jurisdicciones presentando un acceso a internet mucho mayor que otras. Esta brecha puede tener un impacto significativo en el desarrollo económico y social de las regiones menos conectadas.\n",
    "\n",
    "Políticas públicas: Es necesario implementar políticas públicas que promuevan la expansión de las redes de fibra óptica y el acceso a internet en todo el territorio nacional, con un enfoque especial en las áreas rurales y de menor desarrollo.\n",
    "\n",
    "Competencia entre operadores: La competencia entre los operadores de telecomunicaciones es fundamental para garantizar la calidad de los servicios y la reducción de precios.\n",
    "\n",
    "Demanda de servicios digitales: El creciente uso de servicios digitales, como la telemedicina, la educación en línea y el trabajo remoto, ha aumentado la demanda de conexiones a internet de alta velocidad."
   ]
  },
  {
   "cell_type": "markdown",
   "metadata": {},
   "source": [
    "### Accesos por Velocidad\n",
    "Se lee el primer archivo Internet.xlsx y la hoja Accesos por Velocidad"
   ]
  },
  {
   "cell_type": "code",
   "execution_count": 29,
   "metadata": {},
   "outputs": [],
   "source": [
    "df_av = pd.read_excel('Data/Internet.xlsx', sheet_name='Accesos por velocidad')"
   ]
  },
  {
   "cell_type": "markdown",
   "metadata": {},
   "source": [
    "Se muestran los primeros registros\n",
    "\n",
    "Los datos corresponden a los tipos accesos a internet por niveles de velocidad por año trimestres y provincia"
   ]
  },
  {
   "cell_type": "code",
   "execution_count": 30,
   "metadata": {},
   "outputs": [
    {
     "data": {
      "text/html": [
       "<div>\n",
       "<style scoped>\n",
       "    .dataframe tbody tr th:only-of-type {\n",
       "        vertical-align: middle;\n",
       "    }\n",
       "\n",
       "    .dataframe tbody tr th {\n",
       "        vertical-align: top;\n",
       "    }\n",
       "\n",
       "    .dataframe thead th {\n",
       "        text-align: right;\n",
       "    }\n",
       "</style>\n",
       "<table border=\"1\" class=\"dataframe\">\n",
       "  <thead>\n",
       "    <tr style=\"text-align: right;\">\n",
       "      <th></th>\n",
       "      <th>Año</th>\n",
       "      <th>Trimestre</th>\n",
       "      <th>Provincia</th>\n",
       "      <th>HASTA 512 kbps</th>\n",
       "      <th>+ 512 Kbps - 1 Mbps</th>\n",
       "      <th>+ 1 Mbps - 6 Mbps</th>\n",
       "      <th>+ 6 Mbps - 10 Mbps</th>\n",
       "      <th>+ 10 Mbps - 20 Mbps</th>\n",
       "      <th>+ 20 Mbps - 30 Mbps</th>\n",
       "      <th>+ 30 Mbps</th>\n",
       "      <th>OTROS</th>\n",
       "      <th>Total</th>\n",
       "    </tr>\n",
       "  </thead>\n",
       "  <tbody>\n",
       "    <tr>\n",
       "      <th>0</th>\n",
       "      <td>2024</td>\n",
       "      <td>1</td>\n",
       "      <td>Buenos Aires</td>\n",
       "      <td>26002.0</td>\n",
       "      <td>22510.0</td>\n",
       "      <td>221185.0</td>\n",
       "      <td>233225.0</td>\n",
       "      <td>241778.0</td>\n",
       "      <td>106418.0</td>\n",
       "      <td>4068292.0</td>\n",
       "      <td>125147.0</td>\n",
       "      <td>5044557.0</td>\n",
       "    </tr>\n",
       "    <tr>\n",
       "      <th>1</th>\n",
       "      <td>2024</td>\n",
       "      <td>1</td>\n",
       "      <td>Capital Federal</td>\n",
       "      <td>516.0</td>\n",
       "      <td>5418.0</td>\n",
       "      <td>29753.0</td>\n",
       "      <td>51415.0</td>\n",
       "      <td>37369.0</td>\n",
       "      <td>5957.0</td>\n",
       "      <td>1374283.0</td>\n",
       "      <td>0.0</td>\n",
       "      <td>1504711.0</td>\n",
       "    </tr>\n",
       "    <tr>\n",
       "      <th>2</th>\n",
       "      <td>2024</td>\n",
       "      <td>1</td>\n",
       "      <td>Catamarca</td>\n",
       "      <td>71.0</td>\n",
       "      <td>176.0</td>\n",
       "      <td>2872.0</td>\n",
       "      <td>3424.0</td>\n",
       "      <td>4204.0</td>\n",
       "      <td>1822.0</td>\n",
       "      <td>62294.0</td>\n",
       "      <td>70.0</td>\n",
       "      <td>74933.0</td>\n",
       "    </tr>\n",
       "    <tr>\n",
       "      <th>3</th>\n",
       "      <td>2024</td>\n",
       "      <td>1</td>\n",
       "      <td>Chaco</td>\n",
       "      <td>236.0</td>\n",
       "      <td>416.0</td>\n",
       "      <td>14156.0</td>\n",
       "      <td>9044.0</td>\n",
       "      <td>5533.0</td>\n",
       "      <td>5718.0</td>\n",
       "      <td>116624.0</td>\n",
       "      <td>3816.0</td>\n",
       "      <td>155543.0</td>\n",
       "    </tr>\n",
       "    <tr>\n",
       "      <th>4</th>\n",
       "      <td>2024</td>\n",
       "      <td>1</td>\n",
       "      <td>Chubut</td>\n",
       "      <td>111.0</td>\n",
       "      <td>1083.0</td>\n",
       "      <td>43828.0</td>\n",
       "      <td>31885.0</td>\n",
       "      <td>23024.0</td>\n",
       "      <td>20261.0</td>\n",
       "      <td>33844.0</td>\n",
       "      <td>16640.0</td>\n",
       "      <td>170676.0</td>\n",
       "    </tr>\n",
       "  </tbody>\n",
       "</table>\n",
       "</div>"
      ],
      "text/plain": [
       "    Año  Trimestre        Provincia  HASTA 512 kbps  + 512 Kbps - 1 Mbps  \\\n",
       "0  2024          1     Buenos Aires         26002.0              22510.0   \n",
       "1  2024          1  Capital Federal           516.0               5418.0   \n",
       "2  2024          1        Catamarca            71.0                176.0   \n",
       "3  2024          1            Chaco           236.0                416.0   \n",
       "4  2024          1           Chubut           111.0               1083.0   \n",
       "\n",
       "   + 1 Mbps - 6 Mbps  + 6 Mbps - 10 Mbps  + 10 Mbps - 20 Mbps  \\\n",
       "0           221185.0            233225.0             241778.0   \n",
       "1            29753.0             51415.0              37369.0   \n",
       "2             2872.0              3424.0               4204.0   \n",
       "3            14156.0              9044.0               5533.0   \n",
       "4            43828.0             31885.0              23024.0   \n",
       "\n",
       "   + 20 Mbps - 30 Mbps  + 30 Mbps     OTROS      Total  \n",
       "0             106418.0  4068292.0  125147.0  5044557.0  \n",
       "1               5957.0  1374283.0       0.0  1504711.0  \n",
       "2               1822.0    62294.0      70.0    74933.0  \n",
       "3               5718.0   116624.0    3816.0   155543.0  \n",
       "4              20261.0    33844.0   16640.0   170676.0  "
      ]
     },
     "execution_count": 30,
     "metadata": {},
     "output_type": "execute_result"
    }
   ],
   "source": [
    "df_av.head()"
   ]
  },
  {
   "cell_type": "markdown",
   "metadata": {},
   "source": [
    "Se muestra la informacion de las variables"
   ]
  },
  {
   "cell_type": "code",
   "execution_count": 31,
   "metadata": {},
   "outputs": [
    {
     "name": "stdout",
     "output_type": "stream",
     "text": [
      "<class 'pandas.core.frame.DataFrame'>\n",
      "RangeIndex: 984 entries, 0 to 983\n",
      "Data columns (total 12 columns):\n",
      " #   Column               Non-Null Count  Dtype  \n",
      "---  ------               --------------  -----  \n",
      " 0   Año                  984 non-null    int64  \n",
      " 1   Trimestre            984 non-null    int64  \n",
      " 2   Provincia            984 non-null    object \n",
      " 3   HASTA 512 kbps       984 non-null    float64\n",
      " 4   + 512 Kbps - 1 Mbps  984 non-null    float64\n",
      " 5   + 1 Mbps - 6 Mbps    984 non-null    float64\n",
      " 6   + 6 Mbps - 10 Mbps   984 non-null    float64\n",
      " 7   + 10 Mbps - 20 Mbps  984 non-null    float64\n",
      " 8   + 20 Mbps - 30 Mbps  984 non-null    float64\n",
      " 9   + 30 Mbps            984 non-null    float64\n",
      " 10  OTROS                978 non-null    float64\n",
      " 11  Total                984 non-null    float64\n",
      "dtypes: float64(9), int64(2), object(1)\n",
      "memory usage: 92.4+ KB\n"
     ]
    }
   ],
   "source": [
    "df_av.info()"
   ]
  },
  {
   "cell_type": "markdown",
   "metadata": {},
   "source": [
    "Validamos los nulos en OTROS"
   ]
  },
  {
   "cell_type": "code",
   "execution_count": 32,
   "metadata": {},
   "outputs": [
    {
     "data": {
      "text/plain": [
       "Año                    0\n",
       "Trimestre              0\n",
       "Provincia              0\n",
       "HASTA 512 kbps         0\n",
       "+ 512 Kbps - 1 Mbps    0\n",
       "+ 1 Mbps - 6 Mbps      0\n",
       "+ 6 Mbps - 10 Mbps     0\n",
       "+ 10 Mbps - 20 Mbps    0\n",
       "+ 20 Mbps - 30 Mbps    0\n",
       "+ 30 Mbps              0\n",
       "OTROS                  6\n",
       "Total                  0\n",
       "dtype: int64"
      ]
     },
     "execution_count": 32,
     "metadata": {},
     "output_type": "execute_result"
    }
   ],
   "source": [
    "df_av.isna().sum()"
   ]
  },
  {
   "cell_type": "markdown",
   "metadata": {},
   "source": [
    "Se convierten los nulos en 0"
   ]
  },
  {
   "cell_type": "code",
   "execution_count": 33,
   "metadata": {},
   "outputs": [],
   "source": [
    "df_av['OTROS'] = df_av['OTROS'].apply(lambda x: x if pd.notna(x) else 0)"
   ]
  },
  {
   "cell_type": "markdown",
   "metadata": {},
   "source": [
    "Se convierten los valorez  de las columnas de velocidades a entero"
   ]
  },
  {
   "cell_type": "code",
   "execution_count": 34,
   "metadata": {},
   "outputs": [],
   "source": [
    "df_av['HASTA 512 kbps'] = pd.to_numeric(df_av['HASTA 512 kbps'], errors='coerce').fillna(0).astype(int)\n",
    "df_av['+ 512 Kbps - 1 Mbps'] = pd.to_numeric(df_av['+ 512 Kbps - 1 Mbps'], errors='coerce').fillna(0).astype(int)\n",
    "df_av['+ 1 Mbps - 6 Mbps'] = pd.to_numeric(df_av['+ 1 Mbps - 6 Mbps'], errors='coerce').fillna(0).astype(int)\n",
    "df_av['+ 6 Mbps - 10 Mbps'] = pd.to_numeric(df_av['+ 6 Mbps - 10 Mbps'], errors='coerce').fillna(0).astype(int)\n",
    "df_av['+ 10 Mbps - 20 Mbps'] = pd.to_numeric(df_av['+ 10 Mbps - 20 Mbps'], errors='coerce').fillna(0).astype(int)\n",
    "df_av['+ 20 Mbps - 30 Mbps'] = pd.to_numeric(df_av['+ 20 Mbps - 30 Mbps'], errors='coerce').fillna(0).astype(int)\n",
    "df_av['+ 30 Mbps'] = pd.to_numeric(df_av['+ 30 Mbps'], errors='coerce').fillna(0).astype(int)\n",
    "df_av['HASTA 512 kbps'] = pd.to_numeric(df_av['HASTA 512 kbps'], errors='coerce').fillna(0).astype(int)\n",
    "df_av['OTROS'] = pd.to_numeric(df_av['OTROS'], errors='coerce').fillna(0).astype(int)\n",
    "df_av['Total'] = pd.to_numeric(df_av['Total'], errors='coerce').fillna(0).astype(int)"
   ]
  },
  {
   "cell_type": "markdown",
   "metadata": {},
   "source": [
    "Se validan los duplicados"
   ]
  },
  {
   "cell_type": "code",
   "execution_count": 35,
   "metadata": {},
   "outputs": [
    {
     "name": "stdout",
     "output_type": "stream",
     "text": [
      "Empty DataFrame\n",
      "Columns: [Año, Trimestre, Provincia, HASTA 512 kbps, + 512 Kbps - 1 Mbps, + 1 Mbps - 6 Mbps, + 6 Mbps - 10 Mbps, + 10 Mbps - 20 Mbps, + 20 Mbps - 30 Mbps, + 30 Mbps, OTROS, Total]\n",
      "Index: []\n"
     ]
    }
   ],
   "source": [
    "print(df_av[df_av.duplicated()])"
   ]
  },
  {
   "cell_type": "markdown",
   "metadata": {},
   "source": [
    "Se validan los años y trimestres"
   ]
  },
  {
   "cell_type": "code",
   "execution_count": 36,
   "metadata": {},
   "outputs": [
    {
     "data": {
      "text/html": [
       "<div>\n",
       "<style scoped>\n",
       "    .dataframe tbody tr th:only-of-type {\n",
       "        vertical-align: middle;\n",
       "    }\n",
       "\n",
       "    .dataframe tbody tr th {\n",
       "        vertical-align: top;\n",
       "    }\n",
       "\n",
       "    .dataframe thead th {\n",
       "        text-align: right;\n",
       "    }\n",
       "</style>\n",
       "<table border=\"1\" class=\"dataframe\">\n",
       "  <thead>\n",
       "    <tr style=\"text-align: right;\">\n",
       "      <th></th>\n",
       "      <th>Año</th>\n",
       "      <th>Trimestre</th>\n",
       "    </tr>\n",
       "  </thead>\n",
       "  <tbody>\n",
       "    <tr>\n",
       "      <th>24</th>\n",
       "      <td>2024</td>\n",
       "      <td>4</td>\n",
       "    </tr>\n",
       "    <tr>\n",
       "      <th>0</th>\n",
       "      <td>2024</td>\n",
       "      <td>1</td>\n",
       "    </tr>\n",
       "    <tr>\n",
       "      <th>48</th>\n",
       "      <td>2023</td>\n",
       "      <td>3</td>\n",
       "    </tr>\n",
       "    <tr>\n",
       "      <th>72</th>\n",
       "      <td>2023</td>\n",
       "      <td>2</td>\n",
       "    </tr>\n",
       "    <tr>\n",
       "      <th>96</th>\n",
       "      <td>2023</td>\n",
       "      <td>1</td>\n",
       "    </tr>\n",
       "  </tbody>\n",
       "</table>\n",
       "</div>"
      ],
      "text/plain": [
       "     Año  Trimestre\n",
       "24  2024          4\n",
       "0   2024          1\n",
       "48  2023          3\n",
       "72  2023          2\n",
       "96  2023          1"
      ]
     },
     "execution_count": 36,
     "metadata": {},
     "output_type": "execute_result"
    }
   ],
   "source": [
    "df_unicos = df_av[['Año', 'Trimestre']].drop_duplicates()\n",
    "df_unicos=df_unicos.sort_values(['Año','Trimestre'],ascending=[False,False])\n",
    "df_unicos.head()\n"
   ]
  },
  {
   "cell_type": "markdown",
   "metadata": {},
   "source": [
    "Se busca el valor del Año 2024 en el trimestre 4"
   ]
  },
  {
   "cell_type": "code",
   "execution_count": 37,
   "metadata": {},
   "outputs": [
    {
     "data": {
      "text/html": [
       "<div>\n",
       "<style scoped>\n",
       "    .dataframe tbody tr th:only-of-type {\n",
       "        vertical-align: middle;\n",
       "    }\n",
       "\n",
       "    .dataframe tbody tr th {\n",
       "        vertical-align: top;\n",
       "    }\n",
       "\n",
       "    .dataframe thead th {\n",
       "        text-align: right;\n",
       "    }\n",
       "</style>\n",
       "<table border=\"1\" class=\"dataframe\">\n",
       "  <thead>\n",
       "    <tr style=\"text-align: right;\">\n",
       "      <th></th>\n",
       "      <th>Año</th>\n",
       "      <th>Trimestre</th>\n",
       "      <th>Provincia</th>\n",
       "      <th>HASTA 512 kbps</th>\n",
       "      <th>+ 512 Kbps - 1 Mbps</th>\n",
       "      <th>+ 1 Mbps - 6 Mbps</th>\n",
       "      <th>+ 6 Mbps - 10 Mbps</th>\n",
       "      <th>+ 10 Mbps - 20 Mbps</th>\n",
       "      <th>+ 20 Mbps - 30 Mbps</th>\n",
       "      <th>+ 30 Mbps</th>\n",
       "      <th>OTROS</th>\n",
       "      <th>Total</th>\n",
       "    </tr>\n",
       "  </thead>\n",
       "  <tbody>\n",
       "    <tr>\n",
       "      <th>24</th>\n",
       "      <td>2024</td>\n",
       "      <td>4</td>\n",
       "      <td>Buenos Aires</td>\n",
       "      <td>26909</td>\n",
       "      <td>23962</td>\n",
       "      <td>228393</td>\n",
       "      <td>239339</td>\n",
       "      <td>246144</td>\n",
       "      <td>110876</td>\n",
       "      <td>4042646</td>\n",
       "      <td>93351</td>\n",
       "      <td>5011620</td>\n",
       "    </tr>\n",
       "    <tr>\n",
       "      <th>25</th>\n",
       "      <td>2024</td>\n",
       "      <td>4</td>\n",
       "      <td>Capital Federal</td>\n",
       "      <td>516</td>\n",
       "      <td>4544</td>\n",
       "      <td>26409</td>\n",
       "      <td>48083</td>\n",
       "      <td>33925</td>\n",
       "      <td>5829</td>\n",
       "      <td>1355061</td>\n",
       "      <td>0</td>\n",
       "      <td>1474367</td>\n",
       "    </tr>\n",
       "    <tr>\n",
       "      <th>26</th>\n",
       "      <td>2024</td>\n",
       "      <td>4</td>\n",
       "      <td>Catamarca</td>\n",
       "      <td>71</td>\n",
       "      <td>209</td>\n",
       "      <td>3065</td>\n",
       "      <td>3734</td>\n",
       "      <td>4423</td>\n",
       "      <td>1827</td>\n",
       "      <td>61181</td>\n",
       "      <td>77</td>\n",
       "      <td>74587</td>\n",
       "    </tr>\n",
       "    <tr>\n",
       "      <th>27</th>\n",
       "      <td>2024</td>\n",
       "      <td>4</td>\n",
       "      <td>Chaco</td>\n",
       "      <td>236</td>\n",
       "      <td>477</td>\n",
       "      <td>14811</td>\n",
       "      <td>10361</td>\n",
       "      <td>6247</td>\n",
       "      <td>5729</td>\n",
       "      <td>105485</td>\n",
       "      <td>4040</td>\n",
       "      <td>147386</td>\n",
       "    </tr>\n",
       "    <tr>\n",
       "      <th>28</th>\n",
       "      <td>2024</td>\n",
       "      <td>4</td>\n",
       "      <td>Chubut</td>\n",
       "      <td>111</td>\n",
       "      <td>1088</td>\n",
       "      <td>44276</td>\n",
       "      <td>31402</td>\n",
       "      <td>22843</td>\n",
       "      <td>20196</td>\n",
       "      <td>33665</td>\n",
       "      <td>16589</td>\n",
       "      <td>170170</td>\n",
       "    </tr>\n",
       "  </tbody>\n",
       "</table>\n",
       "</div>"
      ],
      "text/plain": [
       "     Año  Trimestre        Provincia  HASTA 512 kbps  + 512 Kbps - 1 Mbps  \\\n",
       "24  2024          4     Buenos Aires           26909                23962   \n",
       "25  2024          4  Capital Federal             516                 4544   \n",
       "26  2024          4        Catamarca              71                  209   \n",
       "27  2024          4            Chaco             236                  477   \n",
       "28  2024          4           Chubut             111                 1088   \n",
       "\n",
       "    + 1 Mbps - 6 Mbps  + 6 Mbps - 10 Mbps  + 10 Mbps - 20 Mbps  \\\n",
       "24             228393              239339               246144   \n",
       "25              26409               48083                33925   \n",
       "26               3065                3734                 4423   \n",
       "27              14811               10361                 6247   \n",
       "28              44276               31402                22843   \n",
       "\n",
       "    + 20 Mbps - 30 Mbps  + 30 Mbps  OTROS    Total  \n",
       "24               110876    4042646  93351  5011620  \n",
       "25                 5829    1355061      0  1474367  \n",
       "26                 1827      61181     77    74587  \n",
       "27                 5729     105485   4040   147386  \n",
       "28                20196      33665  16589   170170  "
      ]
     },
     "execution_count": 37,
     "metadata": {},
     "output_type": "execute_result"
    }
   ],
   "source": [
    "df_av[(df_av['Año'] == 2024) & (df_av['Trimestre'] == 4)].head()"
   ]
  },
  {
   "cell_type": "markdown",
   "metadata": {},
   "source": [
    "Se reemplaza el valor del Año 2024 por 2023 en el trimestre 4"
   ]
  },
  {
   "cell_type": "code",
   "execution_count": 38,
   "metadata": {},
   "outputs": [],
   "source": [
    "df_av.loc[(df_av['Año'] == 2024) & (df_av['Trimestre'] == 4), 'Año'] = 2023\n"
   ]
  },
  {
   "cell_type": "markdown",
   "metadata": {},
   "source": [
    "Se busca el valor del Año 2023 en el trimestre 4"
   ]
  },
  {
   "cell_type": "code",
   "execution_count": 39,
   "metadata": {},
   "outputs": [
    {
     "data": {
      "text/html": [
       "<div>\n",
       "<style scoped>\n",
       "    .dataframe tbody tr th:only-of-type {\n",
       "        vertical-align: middle;\n",
       "    }\n",
       "\n",
       "    .dataframe tbody tr th {\n",
       "        vertical-align: top;\n",
       "    }\n",
       "\n",
       "    .dataframe thead th {\n",
       "        text-align: right;\n",
       "    }\n",
       "</style>\n",
       "<table border=\"1\" class=\"dataframe\">\n",
       "  <thead>\n",
       "    <tr style=\"text-align: right;\">\n",
       "      <th></th>\n",
       "      <th>Año</th>\n",
       "      <th>Trimestre</th>\n",
       "      <th>Provincia</th>\n",
       "      <th>HASTA 512 kbps</th>\n",
       "      <th>+ 512 Kbps - 1 Mbps</th>\n",
       "      <th>+ 1 Mbps - 6 Mbps</th>\n",
       "      <th>+ 6 Mbps - 10 Mbps</th>\n",
       "      <th>+ 10 Mbps - 20 Mbps</th>\n",
       "      <th>+ 20 Mbps - 30 Mbps</th>\n",
       "      <th>+ 30 Mbps</th>\n",
       "      <th>OTROS</th>\n",
       "      <th>Total</th>\n",
       "    </tr>\n",
       "  </thead>\n",
       "  <tbody>\n",
       "    <tr>\n",
       "      <th>24</th>\n",
       "      <td>2023</td>\n",
       "      <td>4</td>\n",
       "      <td>Buenos Aires</td>\n",
       "      <td>26909</td>\n",
       "      <td>23962</td>\n",
       "      <td>228393</td>\n",
       "      <td>239339</td>\n",
       "      <td>246144</td>\n",
       "      <td>110876</td>\n",
       "      <td>4042646</td>\n",
       "      <td>93351</td>\n",
       "      <td>5011620</td>\n",
       "    </tr>\n",
       "    <tr>\n",
       "      <th>25</th>\n",
       "      <td>2023</td>\n",
       "      <td>4</td>\n",
       "      <td>Capital Federal</td>\n",
       "      <td>516</td>\n",
       "      <td>4544</td>\n",
       "      <td>26409</td>\n",
       "      <td>48083</td>\n",
       "      <td>33925</td>\n",
       "      <td>5829</td>\n",
       "      <td>1355061</td>\n",
       "      <td>0</td>\n",
       "      <td>1474367</td>\n",
       "    </tr>\n",
       "    <tr>\n",
       "      <th>26</th>\n",
       "      <td>2023</td>\n",
       "      <td>4</td>\n",
       "      <td>Catamarca</td>\n",
       "      <td>71</td>\n",
       "      <td>209</td>\n",
       "      <td>3065</td>\n",
       "      <td>3734</td>\n",
       "      <td>4423</td>\n",
       "      <td>1827</td>\n",
       "      <td>61181</td>\n",
       "      <td>77</td>\n",
       "      <td>74587</td>\n",
       "    </tr>\n",
       "    <tr>\n",
       "      <th>27</th>\n",
       "      <td>2023</td>\n",
       "      <td>4</td>\n",
       "      <td>Chaco</td>\n",
       "      <td>236</td>\n",
       "      <td>477</td>\n",
       "      <td>14811</td>\n",
       "      <td>10361</td>\n",
       "      <td>6247</td>\n",
       "      <td>5729</td>\n",
       "      <td>105485</td>\n",
       "      <td>4040</td>\n",
       "      <td>147386</td>\n",
       "    </tr>\n",
       "    <tr>\n",
       "      <th>28</th>\n",
       "      <td>2023</td>\n",
       "      <td>4</td>\n",
       "      <td>Chubut</td>\n",
       "      <td>111</td>\n",
       "      <td>1088</td>\n",
       "      <td>44276</td>\n",
       "      <td>31402</td>\n",
       "      <td>22843</td>\n",
       "      <td>20196</td>\n",
       "      <td>33665</td>\n",
       "      <td>16589</td>\n",
       "      <td>170170</td>\n",
       "    </tr>\n",
       "  </tbody>\n",
       "</table>\n",
       "</div>"
      ],
      "text/plain": [
       "     Año  Trimestre        Provincia  HASTA 512 kbps  + 512 Kbps - 1 Mbps  \\\n",
       "24  2023          4     Buenos Aires           26909                23962   \n",
       "25  2023          4  Capital Federal             516                 4544   \n",
       "26  2023          4        Catamarca              71                  209   \n",
       "27  2023          4            Chaco             236                  477   \n",
       "28  2023          4           Chubut             111                 1088   \n",
       "\n",
       "    + 1 Mbps - 6 Mbps  + 6 Mbps - 10 Mbps  + 10 Mbps - 20 Mbps  \\\n",
       "24             228393              239339               246144   \n",
       "25              26409               48083                33925   \n",
       "26               3065                3734                 4423   \n",
       "27              14811               10361                 6247   \n",
       "28              44276               31402                22843   \n",
       "\n",
       "    + 20 Mbps - 30 Mbps  + 30 Mbps  OTROS    Total  \n",
       "24               110876    4042646  93351  5011620  \n",
       "25                 5829    1355061      0  1474367  \n",
       "26                 1827      61181     77    74587  \n",
       "27                 5729     105485   4040   147386  \n",
       "28                20196      33665  16589   170170  "
      ]
     },
     "execution_count": 39,
     "metadata": {},
     "output_type": "execute_result"
    }
   ],
   "source": [
    "df_av[(df_av['Año'] == 2023) & (df_av['Trimestre'] == 4)].head()"
   ]
  },
  {
   "cell_type": "markdown",
   "metadata": {},
   "source": [
    "Crear columna de fecha en formato YYYY-MM-DD"
   ]
  },
  {
   "cell_type": "code",
   "execution_count": 40,
   "metadata": {},
   "outputs": [],
   "source": [
    "df_av['Fecha'] = pd.to_datetime(df_av.apply(lambda x: f\"{x['Año']}-{x['Trimestre']*3-2}-01\", axis=1))"
   ]
  },
  {
   "cell_type": "markdown",
   "metadata": {},
   "source": [
    "Grafico de Velocidad de Accesos en el tiempo"
   ]
  },
  {
   "cell_type": "code",
   "execution_count": 43,
   "metadata": {},
   "outputs": [
    {
     "data": {
      "image/png": "[encoded data removed]",
      "text/plain": [
       "<Figure size 1200x600 with 1 Axes>"
      ]
     },
     "metadata": {},
     "output_type": "display_data"
    }
   ],
   "source": [
    "df_av_r = df_av.columns[3: -3].values\n",
    "\n",
    "plt.figure(figsize=(12,6))\n",
    "for i in df_av_r:\n",
    "    sns.lineplot(data=df_av, x='Fecha', y=i,label=i,errorbar=None)\n",
    "plt.xlabel('Fecha')\n",
    "plt.ylabel('Accesos')\n",
    "plt.title('Evolución de la cantidad de accesos por velocidades')\n",
    "plt.legend(title= 'Velocidades')\n",
    "plt.show()"
   ]
  },
  {
   "cell_type": "markdown",
   "metadata": {},
   "source": [
    "### Descripción General del Gráfico\n",
    "El gráfico presenta una evolución clara de la distribución de los accesos a internet según diferentes rangos de velocidad en un período comprendido entre 2014 y 2024. Las líneas de diferentes colores representan cada rango de velocidad, y el eje vertical indica la cantidad de accesos.\n",
    "\n",
    "### Observaciones clave:\n",
    "\n",
    "Declive en velocidades bajas: Se observa una disminución constante en el número de accesos a velocidades de hasta 1 Mbps, lo que indica una migración gradual de los usuarios hacia conexiones más rápidas.\n",
    "\n",
    "Crecimiento en velocidades medias: Las velocidades entre 1 y 10 Mbps experimentaron un crecimiento inicial, pero luego se estabilizaron o incluso disminuyeron ligeramente en los últimos años. Esto sugiere una saturación en este rango y una migración hacia velocidades aún mayores.\n",
    "\n",
    "Ascenso de velocidades altas: Las velocidades superiores a 10 Mbps muestran un crecimiento sostenido a lo largo de todo el período, especialmente a partir de 2018. Esto refleja una demanda creciente de conexiones más rápidas para actividades que requieren mayor ancho de banda, como el streaming de video en alta definición, los videojuegos en línea y el trabajo remoto.\n",
    "\n",
    "Dominancia de velocidades superiores a 30 Mbps: A partir de 2022, las velocidades superiores a 30 Mbps se convierten en las más populares, superando a las demás categorías. Esto indica una tendencia clara hacia conexiones de mayor velocidad y una mejora general en la calidad de los servicios de internet.\n",
    "\n",
    "### Análisis Detallado por Rangos de Velocidad\n",
    "\n",
    "Hasta 512 kbps: La disminución constante en este rango es esperable, ya que estas velocidades son insuficientes para las aplicaciones actuales y los usuarios buscan alternativas más rápidas.\n",
    "\n",
    "512 kbps - 1 Mbps: Este rango también muestra una tendencia a la baja, pero a un ritmo más lento que el rango anterior.\n",
    "1 Mbps - 6 Mbps: Después de un crecimiento inicial, este rango se estabiliza y luego disminuye ligeramente.\n",
    "6 Mbps - 10 Mbps: Similar al rango anterior, muestra un crecimiento inicial seguido de una estabilización.\n",
    "10 Mbps - 20 Mbps: Este rango experimenta un crecimiento sostenido hasta alrededor de 2018, pero luego se desacelera.\n",
    "20 Mbps - 30 Mbps: Este rango muestra un crecimiento constante y pero se estabiliza a partir de 2022.\n",
    "Más de 30 Mbps: Este rango presenta el crecimiento más sostenido y dinámico, reflejando la demanda creciente de velocidades muy altas.\n",
    "\n",
    "### Implicaciones y Tendencias\n",
    "\n",
    "Mejora en la calidad de los servicios de internet: La migración hacia velocidades más altas indica una mejora general en la calidad de los servicios de internet ofrecidos por los proveedores.\n",
    "\n",
    "Demanda de aplicaciones de alta banda ancha: El crecimiento de las velocidades altas está impulsado por la creciente demanda de aplicaciones que requieren mayor ancho de banda, como el streaming de video en 4K, los videojuegos en línea y el trabajo remoto.\n",
    "\n",
    "Inversión en infraestructura: Para satisfacer esta demanda, los proveedores de servicios de internet deben invertir en la expansión y mejora de su infraestructura de red.\n",
    "\n",
    "Brecha digital: A pesar de esta tendencia positiva, es probable que persista una brecha digital entre las zonas urbanas y rurales, y entre los diferentes grupos socioeconómicos.\n",
    "\n",
    "Conclusiones\n",
    "En conclusión, el gráfico muestra una clara evolución hacia velocidades de conexión a internet más altas, lo que refleja una demanda creciente de servicios de mayor calidad y una mejora general en la infraestructura de las redes. Sin embargo, es importante considerar que esta tendencia puede variar según las regiones y los países, y que persisten desafíos como la brecha digital y la necesidad de continuar invirtiendo en infraestructura."
   ]
  },
  {
   "cell_type": "markdown",
   "metadata": {},
   "source": [
    "Se guarda el archivo de Accesos por velocidad"
   ]
  },
  {
   "cell_type": "code",
   "execution_count": 44,
   "metadata": {},
   "outputs": [],
   "source": [
    "df_av.to_excel('Dataframe/df_av.xlsx',index=False, sheet_name='Accesos por velocidad')"
   ]
  },
  {
   "cell_type": "markdown",
   "metadata": {},
   "source": [
    "### Velocidad Media Por Provincia"
   ]
  },
  {
   "cell_type": "markdown",
   "metadata": {},
   "source": [
    "Se lee el primer archivo Internet.xlsx y la hoja Velocidad % por prov"
   ]
  },
  {
   "cell_type": "code",
   "execution_count": 45,
   "metadata": {},
   "outputs": [],
   "source": [
    "df_vp = pd.read_excel('Data/Internet.xlsx', sheet_name='Velocidad % por prov')"
   ]
  },
  {
   "cell_type": "markdown",
   "metadata": {},
   "source": [
    "Se muestran los primeros registros\n",
    "\n",
    "Los datos corresponden a la velocidad promedio de bajada de internet por año trimestres y provincias"
   ]
  },
  {
   "cell_type": "code",
   "execution_count": 46,
   "metadata": {},
   "outputs": [
    {
     "data": {
      "text/html": [
       "<div>\n",
       "<style scoped>\n",
       "    .dataframe tbody tr th:only-of-type {\n",
       "        vertical-align: middle;\n",
       "    }\n",
       "\n",
       "    .dataframe tbody tr th {\n",
       "        vertical-align: top;\n",
       "    }\n",
       "\n",
       "    .dataframe thead th {\n",
       "        text-align: right;\n",
       "    }\n",
       "</style>\n",
       "<table border=\"1\" class=\"dataframe\">\n",
       "  <thead>\n",
       "    <tr style=\"text-align: right;\">\n",
       "      <th></th>\n",
       "      <th>Año</th>\n",
       "      <th>Trimestre</th>\n",
       "      <th>Provincia</th>\n",
       "      <th>Mbps (Media de bajada)</th>\n",
       "    </tr>\n",
       "  </thead>\n",
       "  <tbody>\n",
       "    <tr>\n",
       "      <th>0</th>\n",
       "      <td>2024</td>\n",
       "      <td>1</td>\n",
       "      <td>Buenos Aires</td>\n",
       "      <td>159.13</td>\n",
       "    </tr>\n",
       "    <tr>\n",
       "      <th>1</th>\n",
       "      <td>2024</td>\n",
       "      <td>1</td>\n",
       "      <td>Capital Federal</td>\n",
       "      <td>229.94</td>\n",
       "    </tr>\n",
       "    <tr>\n",
       "      <th>2</th>\n",
       "      <td>2024</td>\n",
       "      <td>1</td>\n",
       "      <td>Catamarca</td>\n",
       "      <td>91.45</td>\n",
       "    </tr>\n",
       "    <tr>\n",
       "      <th>3</th>\n",
       "      <td>2024</td>\n",
       "      <td>1</td>\n",
       "      <td>Chaco</td>\n",
       "      <td>107.51</td>\n",
       "    </tr>\n",
       "    <tr>\n",
       "      <th>4</th>\n",
       "      <td>2024</td>\n",
       "      <td>1</td>\n",
       "      <td>Chubut</td>\n",
       "      <td>20.50</td>\n",
       "    </tr>\n",
       "  </tbody>\n",
       "</table>\n",
       "</div>"
      ],
      "text/plain": [
       "    Año  Trimestre        Provincia  Mbps (Media de bajada)\n",
       "0  2024          1     Buenos Aires                  159.13\n",
       "1  2024          1  Capital Federal                  229.94\n",
       "2  2024          1        Catamarca                   91.45\n",
       "3  2024          1            Chaco                  107.51\n",
       "4  2024          1           Chubut                   20.50"
      ]
     },
     "execution_count": 46,
     "metadata": {},
     "output_type": "execute_result"
    }
   ],
   "source": [
    "df_vp.head()"
   ]
  },
  {
   "cell_type": "markdown",
   "metadata": {},
   "source": [
    "Se muestra la informacion de las variables"
   ]
  },
  {
   "cell_type": "code",
   "execution_count": 47,
   "metadata": {},
   "outputs": [
    {
     "name": "stdout",
     "output_type": "stream",
     "text": [
      "<class 'pandas.core.frame.DataFrame'>\n",
      "RangeIndex: 984 entries, 0 to 983\n",
      "Data columns (total 4 columns):\n",
      " #   Column                  Non-Null Count  Dtype  \n",
      "---  ------                  --------------  -----  \n",
      " 0   Año                     984 non-null    int64  \n",
      " 1   Trimestre               984 non-null    int64  \n",
      " 2   Provincia               984 non-null    object \n",
      " 3   Mbps (Media de bajada)  984 non-null    float64\n",
      "dtypes: float64(1), int64(2), object(1)\n",
      "memory usage: 30.9+ KB\n"
     ]
    }
   ],
   "source": [
    "df_vp.info()"
   ]
  },
  {
   "cell_type": "markdown",
   "metadata": {},
   "source": [
    "Se muestran los valores duplicados"
   ]
  },
  {
   "cell_type": "code",
   "execution_count": 48,
   "metadata": {},
   "outputs": [
    {
     "name": "stdout",
     "output_type": "stream",
     "text": [
      "Empty DataFrame\n",
      "Columns: [Año, Trimestre, Provincia, Mbps (Media de bajada)]\n",
      "Index: []\n"
     ]
    }
   ],
   "source": [
    "print(df_vp[df_vp.duplicated()])"
   ]
  },
  {
   "cell_type": "markdown",
   "metadata": {},
   "source": [
    "Crear columna de fecha en formato YYYY-MM-DD"
   ]
  },
  {
   "cell_type": "code",
   "execution_count": 49,
   "metadata": {},
   "outputs": [],
   "source": [
    "df_vp['Fecha'] = pd.to_datetime(df_vp.apply(lambda x: f\"{x['Año']}-{x['Trimestre']*3-2}-01\", axis=1))"
   ]
  },
  {
   "cell_type": "markdown",
   "metadata": {},
   "source": [
    "### Grafico de Velocidad Media de Bajada por Provincia año 2024"
   ]
  },
  {
   "cell_type": "code",
   "execution_count": 50,
   "metadata": {},
   "outputs": [
    {
     "data": {
      "image/png": "[encoded data removed]",
      "text/plain": [
       "<Figure size 1800x1000 with 1 Axes>"
      ]
     },
     "metadata": {},
     "output_type": "display_data"
    }
   ],
   "source": [
    "plt.figure(figsize=(18, 10))\n",
    "sns.barplot(x='Provincia', y='Mbps (Media de bajada)',hue='Provincia', data=df_vp[df_vp['Año'] == 2024])\n",
    "plt.xlabel('Provincias')\n",
    "plt.ylabel('Media de bajada (Mbps)')\n",
    "plt.title('Velocidad media de bajada por provincia')\n",
    "plt.xticks(rotation=45)\n",
    "plt.show()\n"
   ]
  },
  {
   "cell_type": "markdown",
   "metadata": {},
   "source": [
    "### Descripcion General del Gráfico\n",
    "\n",
    "El gráfico de barras presentado muestra una clara disparidad en la velocidad media de descarga de internet entre las diferentes provincias de Argentina. Observamos que existen provincias con velocidades significativamente superiores a otras, lo que indica una brecha digital considerable dentro del país.\n",
    "\n",
    "### Observaciones Clave\n",
    "Desigualdad regional: La velocidad media de descarga varía considerablemente entre las provincias. Algunas provincias cuentan con velocidades muy superiores a 200 Mbps, mientras que otras se encuentran por debajo de los 50 Mbps.\n",
    "\n",
    "Concentración en algunas provincias: Algunas provincias se destacan por tener velocidades medias de descarga significativamente más altas, lo que sugiere una mayor inversión en infraestructura de telecomunicaciones en esas regiones.\n",
    "\n",
    "Brecha digital: La gran disparidad en las velocidades de descarga evidencia una brecha digital importante entre las diferentes regiones del país. Esta brecha puede tener un impacto significativo en el acceso a la información, la educación, la economía y la calidad de vida de los ciudadanos.\n",
    "\n",
    "### Posibles Causas de la Disparidad\n",
    "\n",
    "Inversión en infraestructura: Las provincias con mayores velocidades de descarga probablemente han recibido inversiones más significativas en infraestructura de telecomunicaciones, como fibra óptica y redes móviles de alta velocidad.\n",
    "\n",
    "Densidad poblacional: Las zonas urbanas y con mayor densidad poblacional suelen tener mejor conectividad debido a la mayor demanda de servicios de internet.\n",
    "\n",
    "Política pública: Las políticas públicas en materia de telecomunicaciones pueden influir en la distribución de la infraestructura y en el acceso a internet en las diferentes regiones.\n",
    "\n",
    "Condiciones geográficas: Las condiciones geográficas de algunas provincias pueden dificultar la implementación de redes de telecomunicaciones, aumentando los costos y reduciendo la velocidad de conexión.\n",
    "\n",
    "### Conclusión\n",
    "\n",
    "En conclusión, el gráfico muestra una clara desigualdad en el acceso a internet de alta velocidad en las diferentes provincias de Argentina. Para reducir esta brecha digital, es necesario implementar políticas públicas que promuevan la inversión en infraestructura y la expansión de la conectividad en todo el territorio nacional."
   ]
  },
  {
   "cell_type": "markdown",
   "metadata": {},
   "source": [
    "Se guarda el archivo de Velocidad % por prov"
   ]
  },
  {
   "cell_type": "code",
   "execution_count": 51,
   "metadata": {},
   "outputs": [],
   "source": [
    "df_vp.to_excel('Dataframe/df_vp.xlsx',index=False, sheet_name='Velocidad % por prov')"
   ]
  },
  {
   "cell_type": "markdown",
   "metadata": {},
   "source": [
    "### Ingresos"
   ]
  },
  {
   "cell_type": "markdown",
   "metadata": {},
   "source": [
    "Se lee el primer archivo Internet.xlsx y la hoja Ingresos"
   ]
  },
  {
   "cell_type": "code",
   "execution_count": 52,
   "metadata": {},
   "outputs": [],
   "source": [
    "df_in = pd.read_excel('Data/Internet.xlsx', sheet_name='Ingresos ')"
   ]
  },
  {
   "cell_type": "markdown",
   "metadata": {},
   "source": [
    "Se muestran los primeros registros\n",
    "\n",
    "Los datos corresponden a los Ingresos de internet por año y trimestres"
   ]
  },
  {
   "cell_type": "code",
   "execution_count": 53,
   "metadata": {},
   "outputs": [
    {
     "data": {
      "text/html": [
       "<div>\n",
       "<style scoped>\n",
       "    .dataframe tbody tr th:only-of-type {\n",
       "        vertical-align: middle;\n",
       "    }\n",
       "\n",
       "    .dataframe tbody tr th {\n",
       "        vertical-align: top;\n",
       "    }\n",
       "\n",
       "    .dataframe thead th {\n",
       "        text-align: right;\n",
       "    }\n",
       "</style>\n",
       "<table border=\"1\" class=\"dataframe\">\n",
       "  <thead>\n",
       "    <tr style=\"text-align: right;\">\n",
       "      <th></th>\n",
       "      <th>Año</th>\n",
       "      <th>Trimestre</th>\n",
       "      <th>Ingresos (miles de pesos)</th>\n",
       "      <th>Periodo</th>\n",
       "    </tr>\n",
       "  </thead>\n",
       "  <tbody>\n",
       "    <tr>\n",
       "      <th>0</th>\n",
       "      <td>2024</td>\n",
       "      <td>1</td>\n",
       "      <td>2.804191e+08</td>\n",
       "      <td>Ene-Mar 2024</td>\n",
       "    </tr>\n",
       "    <tr>\n",
       "      <th>1</th>\n",
       "      <td>2023</td>\n",
       "      <td>4</td>\n",
       "      <td>1.673760e+08</td>\n",
       "      <td>Oct-Dic 2023</td>\n",
       "    </tr>\n",
       "    <tr>\n",
       "      <th>2</th>\n",
       "      <td>2023</td>\n",
       "      <td>3</td>\n",
       "      <td>1.331066e+08</td>\n",
       "      <td>Jul-Sept 2023</td>\n",
       "    </tr>\n",
       "    <tr>\n",
       "      <th>3</th>\n",
       "      <td>2023</td>\n",
       "      <td>2</td>\n",
       "      <td>1.180603e+08</td>\n",
       "      <td>Jun-Mar 2023</td>\n",
       "    </tr>\n",
       "    <tr>\n",
       "      <th>4</th>\n",
       "      <td>2033</td>\n",
       "      <td>1</td>\n",
       "      <td>1.041350e+08</td>\n",
       "      <td>Ene-Mar 2023</td>\n",
       "    </tr>\n",
       "  </tbody>\n",
       "</table>\n",
       "</div>"
      ],
      "text/plain": [
       "    Año  Trimestre  Ingresos (miles de pesos)        Periodo\n",
       "0  2024          1               2.804191e+08   Ene-Mar 2024\n",
       "1  2023          4               1.673760e+08   Oct-Dic 2023\n",
       "2  2023          3               1.331066e+08  Jul-Sept 2023\n",
       "3  2023          2               1.180603e+08   Jun-Mar 2023\n",
       "4  2033          1               1.041350e+08   Ene-Mar 2023"
      ]
     },
     "execution_count": 53,
     "metadata": {},
     "output_type": "execute_result"
    }
   ],
   "source": [
    "df_in.head()"
   ]
  },
  {
   "cell_type": "markdown",
   "metadata": {},
   "source": [
    "Se muestra la informacion de las variables"
   ]
  },
  {
   "cell_type": "code",
   "execution_count": 54,
   "metadata": {},
   "outputs": [
    {
     "name": "stdout",
     "output_type": "stream",
     "text": [
      "<class 'pandas.core.frame.DataFrame'>\n",
      "RangeIndex: 41 entries, 0 to 40\n",
      "Data columns (total 4 columns):\n",
      " #   Column                     Non-Null Count  Dtype  \n",
      "---  ------                     --------------  -----  \n",
      " 0   Año                        41 non-null     int64  \n",
      " 1   Trimestre                  41 non-null     int64  \n",
      " 2   Ingresos (miles de pesos)  41 non-null     float64\n",
      " 3   Periodo                    41 non-null     object \n",
      "dtypes: float64(1), int64(2), object(1)\n",
      "memory usage: 1.4+ KB\n"
     ]
    }
   ],
   "source": [
    "df_in.info()"
   ]
  },
  {
   "cell_type": "markdown",
   "metadata": {},
   "source": [
    "Se muestran los valores duplicados"
   ]
  },
  {
   "cell_type": "code",
   "execution_count": 55,
   "metadata": {},
   "outputs": [
    {
     "name": "stdout",
     "output_type": "stream",
     "text": [
      "Empty DataFrame\n",
      "Columns: [Año, Trimestre, Ingresos (miles de pesos), Periodo]\n",
      "Index: []\n"
     ]
    }
   ],
   "source": [
    "print(df_in[df_in.duplicated()])"
   ]
  },
  {
   "cell_type": "markdown",
   "metadata": {},
   "source": [
    "Se validan los Años y Trimestres"
   ]
  },
  {
   "cell_type": "code",
   "execution_count": 56,
   "metadata": {},
   "outputs": [
    {
     "data": {
      "text/html": [
       "<div>\n",
       "<style scoped>\n",
       "    .dataframe tbody tr th:only-of-type {\n",
       "        vertical-align: middle;\n",
       "    }\n",
       "\n",
       "    .dataframe tbody tr th {\n",
       "        vertical-align: top;\n",
       "    }\n",
       "\n",
       "    .dataframe thead th {\n",
       "        text-align: right;\n",
       "    }\n",
       "</style>\n",
       "<table border=\"1\" class=\"dataframe\">\n",
       "  <thead>\n",
       "    <tr style=\"text-align: right;\">\n",
       "      <th></th>\n",
       "      <th>Año</th>\n",
       "      <th>Trimestre</th>\n",
       "    </tr>\n",
       "  </thead>\n",
       "  <tbody>\n",
       "    <tr>\n",
       "      <th>4</th>\n",
       "      <td>2033</td>\n",
       "      <td>1</td>\n",
       "    </tr>\n",
       "    <tr>\n",
       "      <th>0</th>\n",
       "      <td>2024</td>\n",
       "      <td>1</td>\n",
       "    </tr>\n",
       "    <tr>\n",
       "      <th>1</th>\n",
       "      <td>2023</td>\n",
       "      <td>4</td>\n",
       "    </tr>\n",
       "    <tr>\n",
       "      <th>2</th>\n",
       "      <td>2023</td>\n",
       "      <td>3</td>\n",
       "    </tr>\n",
       "    <tr>\n",
       "      <th>3</th>\n",
       "      <td>2023</td>\n",
       "      <td>2</td>\n",
       "    </tr>\n",
       "  </tbody>\n",
       "</table>\n",
       "</div>"
      ],
      "text/plain": [
       "    Año  Trimestre\n",
       "4  2033          1\n",
       "0  2024          1\n",
       "1  2023          4\n",
       "2  2023          3\n",
       "3  2023          2"
      ]
     },
     "execution_count": 56,
     "metadata": {},
     "output_type": "execute_result"
    }
   ],
   "source": [
    "df_unicos_in = df_in[['Año', 'Trimestre']].drop_duplicates()\n",
    "df_unicos_in=df_unicos_in.sort_values(['Año','Trimestre'],ascending=[False,False])\n",
    "df_unicos_in.head()"
   ]
  },
  {
   "cell_type": "markdown",
   "metadata": {},
   "source": [
    "Se busca el valor del Año 2033 en el trimestre 1"
   ]
  },
  {
   "cell_type": "code",
   "execution_count": 57,
   "metadata": {},
   "outputs": [
    {
     "data": {
      "text/html": [
       "<div>\n",
       "<style scoped>\n",
       "    .dataframe tbody tr th:only-of-type {\n",
       "        vertical-align: middle;\n",
       "    }\n",
       "\n",
       "    .dataframe tbody tr th {\n",
       "        vertical-align: top;\n",
       "    }\n",
       "\n",
       "    .dataframe thead th {\n",
       "        text-align: right;\n",
       "    }\n",
       "</style>\n",
       "<table border=\"1\" class=\"dataframe\">\n",
       "  <thead>\n",
       "    <tr style=\"text-align: right;\">\n",
       "      <th></th>\n",
       "      <th>Año</th>\n",
       "      <th>Trimestre</th>\n",
       "      <th>Ingresos (miles de pesos)</th>\n",
       "      <th>Periodo</th>\n",
       "    </tr>\n",
       "  </thead>\n",
       "  <tbody>\n",
       "    <tr>\n",
       "      <th>4</th>\n",
       "      <td>2033</td>\n",
       "      <td>1</td>\n",
       "      <td>1.041350e+08</td>\n",
       "      <td>Ene-Mar 2023</td>\n",
       "    </tr>\n",
       "  </tbody>\n",
       "</table>\n",
       "</div>"
      ],
      "text/plain": [
       "    Año  Trimestre  Ingresos (miles de pesos)       Periodo\n",
       "4  2033          1               1.041350e+08  Ene-Mar 2023"
      ]
     },
     "execution_count": 57,
     "metadata": {},
     "output_type": "execute_result"
    }
   ],
   "source": [
    "df_in[(df_in['Año'] == 2033) & (df_in['Trimestre'] == 1)].head()"
   ]
  },
  {
   "cell_type": "markdown",
   "metadata": {},
   "source": [
    "Se actualiza el Año 2033 a 2023 para el trimestre 1"
   ]
  },
  {
   "cell_type": "code",
   "execution_count": 58,
   "metadata": {},
   "outputs": [],
   "source": [
    "df_in.loc[(df_in['Año'] == 2033) & (df_in['Trimestre'] == 1), 'Año'] = 2023"
   ]
  },
  {
   "cell_type": "markdown",
   "metadata": {},
   "source": [
    "Se busca el valor del Año 2023 en el trimestre 1"
   ]
  },
  {
   "cell_type": "code",
   "execution_count": 59,
   "metadata": {},
   "outputs": [
    {
     "data": {
      "text/html": [
       "<div>\n",
       "<style scoped>\n",
       "    .dataframe tbody tr th:only-of-type {\n",
       "        vertical-align: middle;\n",
       "    }\n",
       "\n",
       "    .dataframe tbody tr th {\n",
       "        vertical-align: top;\n",
       "    }\n",
       "\n",
       "    .dataframe thead th {\n",
       "        text-align: right;\n",
       "    }\n",
       "</style>\n",
       "<table border=\"1\" class=\"dataframe\">\n",
       "  <thead>\n",
       "    <tr style=\"text-align: right;\">\n",
       "      <th></th>\n",
       "      <th>Año</th>\n",
       "      <th>Trimestre</th>\n",
       "      <th>Ingresos (miles de pesos)</th>\n",
       "      <th>Periodo</th>\n",
       "    </tr>\n",
       "  </thead>\n",
       "  <tbody>\n",
       "    <tr>\n",
       "      <th>4</th>\n",
       "      <td>2023</td>\n",
       "      <td>1</td>\n",
       "      <td>1.041350e+08</td>\n",
       "      <td>Ene-Mar 2023</td>\n",
       "    </tr>\n",
       "  </tbody>\n",
       "</table>\n",
       "</div>"
      ],
      "text/plain": [
       "    Año  Trimestre  Ingresos (miles de pesos)       Periodo\n",
       "4  2023          1               1.041350e+08  Ene-Mar 2023"
      ]
     },
     "execution_count": 59,
     "metadata": {},
     "output_type": "execute_result"
    }
   ],
   "source": [
    "df_in[(df_in['Año'] == 2023) & (df_in['Trimestre'] == 1)].head()"
   ]
  },
  {
   "cell_type": "markdown",
   "metadata": {},
   "source": [
    "Crear columna de fecha en formato YYYY-MM-DD"
   ]
  },
  {
   "cell_type": "code",
   "execution_count": 60,
   "metadata": {},
   "outputs": [],
   "source": [
    "df_in['Fecha'] = pd.to_datetime(df_in.apply(lambda x: f\"{x['Año']}-{x['Trimestre']*3-2}-01\", axis=1))"
   ]
  },
  {
   "cell_type": "code",
   "execution_count": 61,
   "metadata": {},
   "outputs": [
    {
     "data": {
      "text/html": [
       "<div>\n",
       "<style scoped>\n",
       "    .dataframe tbody tr th:only-of-type {\n",
       "        vertical-align: middle;\n",
       "    }\n",
       "\n",
       "    .dataframe tbody tr th {\n",
       "        vertical-align: top;\n",
       "    }\n",
       "\n",
       "    .dataframe thead th {\n",
       "        text-align: right;\n",
       "    }\n",
       "</style>\n",
       "<table border=\"1\" class=\"dataframe\">\n",
       "  <thead>\n",
       "    <tr style=\"text-align: right;\">\n",
       "      <th></th>\n",
       "      <th>Año</th>\n",
       "      <th>Trimestre</th>\n",
       "      <th>Ingresos (miles de pesos)</th>\n",
       "      <th>Periodo</th>\n",
       "      <th>Fecha</th>\n",
       "    </tr>\n",
       "  </thead>\n",
       "  <tbody>\n",
       "    <tr>\n",
       "      <th>0</th>\n",
       "      <td>2024</td>\n",
       "      <td>1</td>\n",
       "      <td>2.804191e+08</td>\n",
       "      <td>Ene-Mar 2024</td>\n",
       "      <td>2024-01-01</td>\n",
       "    </tr>\n",
       "    <tr>\n",
       "      <th>1</th>\n",
       "      <td>2023</td>\n",
       "      <td>4</td>\n",
       "      <td>1.673760e+08</td>\n",
       "      <td>Oct-Dic 2023</td>\n",
       "      <td>2023-10-01</td>\n",
       "    </tr>\n",
       "    <tr>\n",
       "      <th>2</th>\n",
       "      <td>2023</td>\n",
       "      <td>3</td>\n",
       "      <td>1.331066e+08</td>\n",
       "      <td>Jul-Sept 2023</td>\n",
       "      <td>2023-07-01</td>\n",
       "    </tr>\n",
       "    <tr>\n",
       "      <th>3</th>\n",
       "      <td>2023</td>\n",
       "      <td>2</td>\n",
       "      <td>1.180603e+08</td>\n",
       "      <td>Jun-Mar 2023</td>\n",
       "      <td>2023-04-01</td>\n",
       "    </tr>\n",
       "    <tr>\n",
       "      <th>4</th>\n",
       "      <td>2023</td>\n",
       "      <td>1</td>\n",
       "      <td>1.041350e+08</td>\n",
       "      <td>Ene-Mar 2023</td>\n",
       "      <td>2023-01-01</td>\n",
       "    </tr>\n",
       "  </tbody>\n",
       "</table>\n",
       "</div>"
      ],
      "text/plain": [
       "    Año  Trimestre  Ingresos (miles de pesos)        Periodo      Fecha\n",
       "0  2024          1               2.804191e+08   Ene-Mar 2024 2024-01-01\n",
       "1  2023          4               1.673760e+08   Oct-Dic 2023 2023-10-01\n",
       "2  2023          3               1.331066e+08  Jul-Sept 2023 2023-07-01\n",
       "3  2023          2               1.180603e+08   Jun-Mar 2023 2023-04-01\n",
       "4  2023          1               1.041350e+08   Ene-Mar 2023 2023-01-01"
      ]
     },
     "execution_count": 61,
     "metadata": {},
     "output_type": "execute_result"
    }
   ],
   "source": [
    "df_in.head()\n"
   ]
  },
  {
   "cell_type": "markdown",
   "metadata": {},
   "source": [
    "### Gráfico de Ingresos por Año y Trimestre"
   ]
  },
  {
   "cell_type": "code",
   "execution_count": 62,
   "metadata": {},
   "outputs": [
    {
     "data": {
      "image/png": "[encoded data removed]",
      "text/plain": [
       "<Figure size 1000x800 with 1 Axes>"
      ]
     },
     "metadata": {},
     "output_type": "display_data"
    }
   ],
   "source": [
    "plt.figure(figsize=(10, 8))\n",
    "sns.lineplot(x='Fecha', y='Ingresos (miles de pesos)', data= df_in)\n",
    "plt.xlabel('Fecha')\n",
    "plt.ylabel('Ingresos (miles de pesos)')\n",
    "plt.title('Evolución de los ingresos en servicios de internet a través de los años')\n",
    "plt.show()"
   ]
  },
  {
   "cell_type": "markdown",
   "metadata": {},
   "source": [
    "En resumen, la imagen proporcionada ofrece una visión general de la tendencia al alza de los ingresos por servicios de internet,"
   ]
  },
  {
   "cell_type": "markdown",
   "metadata": {},
   "source": [
    "Se guarda el archivo de Velocidad % por prov"
   ]
  },
  {
   "cell_type": "code",
   "execution_count": 76,
   "metadata": {},
   "outputs": [],
   "source": [
    "df_in.to_excel('Dataframe/df_in.xlsx',index=False, sheet_name='Ingresos')"
   ]
  },
  {
   "cell_type": "markdown",
   "metadata": {},
   "source": [
    "### Ubicacion Geográfica\n",
    "\n",
    "Se procede a utilizar un archivo descargado de internet para obtener la latitud y longitud de las provincias"
   ]
  },
  {
   "cell_type": "code",
   "execution_count": 77,
   "metadata": {},
   "outputs": [],
   "source": [
    "df_ug = pd.read_excel('Data/ar.xlsx', sheet_name='Sheet1')"
   ]
  },
  {
   "cell_type": "markdown",
   "metadata": {},
   "source": [
    "Mostrar los datos"
   ]
  },
  {
   "cell_type": "code",
   "execution_count": 78,
   "metadata": {},
   "outputs": [
    {
     "data": {
      "text/html": [
       "<div>\n",
       "<style scoped>\n",
       "    .dataframe tbody tr th:only-of-type {\n",
       "        vertical-align: middle;\n",
       "    }\n",
       "\n",
       "    .dataframe tbody tr th {\n",
       "        vertical-align: top;\n",
       "    }\n",
       "\n",
       "    .dataframe thead th {\n",
       "        text-align: right;\n",
       "    }\n",
       "</style>\n",
       "<table border=\"1\" class=\"dataframe\">\n",
       "  <thead>\n",
       "    <tr style=\"text-align: right;\">\n",
       "      <th></th>\n",
       "      <th>city</th>\n",
       "      <th>lat</th>\n",
       "      <th>lng</th>\n",
       "      <th>country</th>\n",
       "      <th>iso2</th>\n",
       "      <th>admin_name</th>\n",
       "      <th>capital</th>\n",
       "      <th>population</th>\n",
       "      <th>population_proper</th>\n",
       "    </tr>\n",
       "  </thead>\n",
       "  <tbody>\n",
       "    <tr>\n",
       "      <th>0</th>\n",
       "      <td>La Plata</td>\n",
       "      <td>-34.9211</td>\n",
       "      <td>-57.9544</td>\n",
       "      <td>Argentina</td>\n",
       "      <td>AR</td>\n",
       "      <td>Buenos Aires</td>\n",
       "      <td>admin</td>\n",
       "      <td>193144.0</td>\n",
       "      <td>193144.0</td>\n",
       "    </tr>\n",
       "    <tr>\n",
       "      <th>1</th>\n",
       "      <td>Buenos Aires</td>\n",
       "      <td>-34.6033</td>\n",
       "      <td>-58.3817</td>\n",
       "      <td>Argentina</td>\n",
       "      <td>AR</td>\n",
       "      <td>Buenos Aires, Ciudad Autónoma de</td>\n",
       "      <td>primary</td>\n",
       "      <td>16710000.0</td>\n",
       "      <td>3054300.0</td>\n",
       "    </tr>\n",
       "    <tr>\n",
       "      <th>2</th>\n",
       "      <td>Rosario</td>\n",
       "      <td>-32.9575</td>\n",
       "      <td>-60.6394</td>\n",
       "      <td>Argentina</td>\n",
       "      <td>AR</td>\n",
       "      <td>Santa Fe</td>\n",
       "      <td>minor</td>\n",
       "      <td>1276000.0</td>\n",
       "      <td>1193605.0</td>\n",
       "    </tr>\n",
       "    <tr>\n",
       "      <th>3</th>\n",
       "      <td>Catamarca</td>\n",
       "      <td>-28.4667</td>\n",
       "      <td>-65.7833</td>\n",
       "      <td>Argentina</td>\n",
       "      <td>AR</td>\n",
       "      <td>Catamarca</td>\n",
       "      <td>admin</td>\n",
       "      <td>159139.0</td>\n",
       "      <td>159139.0</td>\n",
       "    </tr>\n",
       "    <tr>\n",
       "      <th>4</th>\n",
       "      <td>Comodoro Rivadavia</td>\n",
       "      <td>-45.8647</td>\n",
       "      <td>-67.4808</td>\n",
       "      <td>Argentina</td>\n",
       "      <td>AR</td>\n",
       "      <td>Chubut</td>\n",
       "      <td>minor</td>\n",
       "      <td>730266.0</td>\n",
       "      <td>730266.0</td>\n",
       "    </tr>\n",
       "  </tbody>\n",
       "</table>\n",
       "</div>"
      ],
      "text/plain": [
       "                 city      lat      lng    country iso2  \\\n",
       "0            La Plata -34.9211 -57.9544  Argentina   AR   \n",
       "1        Buenos Aires -34.6033 -58.3817  Argentina   AR   \n",
       "2             Rosario -32.9575 -60.6394  Argentina   AR   \n",
       "3           Catamarca -28.4667 -65.7833  Argentina   AR   \n",
       "4  Comodoro Rivadavia -45.8647 -67.4808  Argentina   AR   \n",
       "\n",
       "                         admin_name  capital  population  population_proper  \n",
       "0                      Buenos Aires    admin    193144.0           193144.0  \n",
       "1  Buenos Aires, Ciudad Autónoma de  primary  16710000.0          3054300.0  \n",
       "2                          Santa Fe    minor   1276000.0          1193605.0  \n",
       "3                         Catamarca    admin    159139.0           159139.0  \n",
       "4                            Chubut    minor    730266.0           730266.0  "
      ]
     },
     "execution_count": 78,
     "metadata": {},
     "output_type": "execute_result"
    }
   ],
   "source": [
    "df_ug.head()"
   ]
  },
  {
   "cell_type": "markdown",
   "metadata": {},
   "source": [
    "Filtrado de Provincias"
   ]
  },
  {
   "cell_type": "code",
   "execution_count": 79,
   "metadata": {},
   "outputs": [],
   "source": [
    "df_ug=df_ug[(df_ug['capital']=='admin') | (df_ug['capital']=='primary')]"
   ]
  },
  {
   "cell_type": "code",
   "execution_count": 84,
   "metadata": {},
   "outputs": [],
   "source": [
    "df_ug = df_ug.reset_index(drop=True)\n",
    "df_ug.index = df_ug.index + 1"
   ]
  },
  {
   "cell_type": "markdown",
   "metadata": {},
   "source": [
    "Listado de Provincias y CABA"
   ]
  },
  {
   "cell_type": "code",
   "execution_count": 107,
   "metadata": {},
   "outputs": [
    {
     "data": {
      "text/html": [
       "<div>\n",
       "<style scoped>\n",
       "    .dataframe tbody tr th:only-of-type {\n",
       "        vertical-align: middle;\n",
       "    }\n",
       "\n",
       "    .dataframe tbody tr th {\n",
       "        vertical-align: top;\n",
       "    }\n",
       "\n",
       "    .dataframe thead th {\n",
       "        text-align: right;\n",
       "    }\n",
       "</style>\n",
       "<table border=\"1\" class=\"dataframe\">\n",
       "  <thead>\n",
       "    <tr style=\"text-align: right;\">\n",
       "      <th></th>\n",
       "      <th>city</th>\n",
       "      <th>lat</th>\n",
       "      <th>lng</th>\n",
       "      <th>country</th>\n",
       "      <th>iso2</th>\n",
       "      <th>admin_name</th>\n",
       "      <th>capital</th>\n",
       "      <th>population</th>\n",
       "      <th>population_proper</th>\n",
       "    </tr>\n",
       "  </thead>\n",
       "  <tbody>\n",
       "    <tr>\n",
       "      <th>1</th>\n",
       "      <td>La Plata</td>\n",
       "      <td>-34.9211</td>\n",
       "      <td>-57.9544</td>\n",
       "      <td>Argentina</td>\n",
       "      <td>AR</td>\n",
       "      <td>Buenos Aires</td>\n",
       "      <td>admin</td>\n",
       "      <td>193144.0</td>\n",
       "      <td>193144.0</td>\n",
       "    </tr>\n",
       "    <tr>\n",
       "      <th>2</th>\n",
       "      <td>Buenos Aires</td>\n",
       "      <td>-34.6033</td>\n",
       "      <td>-58.3817</td>\n",
       "      <td>Argentina</td>\n",
       "      <td>AR</td>\n",
       "      <td>Capital Federal</td>\n",
       "      <td>primary</td>\n",
       "      <td>16710000.0</td>\n",
       "      <td>3054300.0</td>\n",
       "    </tr>\n",
       "    <tr>\n",
       "      <th>3</th>\n",
       "      <td>Catamarca</td>\n",
       "      <td>-28.4667</td>\n",
       "      <td>-65.7833</td>\n",
       "      <td>Argentina</td>\n",
       "      <td>AR</td>\n",
       "      <td>Catamarca</td>\n",
       "      <td>admin</td>\n",
       "      <td>159139.0</td>\n",
       "      <td>159139.0</td>\n",
       "    </tr>\n",
       "    <tr>\n",
       "      <th>4</th>\n",
       "      <td>Resistencia</td>\n",
       "      <td>-27.4514</td>\n",
       "      <td>-58.9867</td>\n",
       "      <td>Argentina</td>\n",
       "      <td>AR</td>\n",
       "      <td>Chaco</td>\n",
       "      <td>admin</td>\n",
       "      <td>291720.0</td>\n",
       "      <td>291720.0</td>\n",
       "    </tr>\n",
       "    <tr>\n",
       "      <th>5</th>\n",
       "      <td>Rawson</td>\n",
       "      <td>-43.3000</td>\n",
       "      <td>-65.1000</td>\n",
       "      <td>Argentina</td>\n",
       "      <td>AR</td>\n",
       "      <td>Chubut</td>\n",
       "      <td>admin</td>\n",
       "      <td>24616.0</td>\n",
       "      <td>24616.0</td>\n",
       "    </tr>\n",
       "    <tr>\n",
       "      <th>6</th>\n",
       "      <td>Córdoba</td>\n",
       "      <td>-31.4167</td>\n",
       "      <td>-64.1833</td>\n",
       "      <td>Argentina</td>\n",
       "      <td>AR</td>\n",
       "      <td>Córdoba</td>\n",
       "      <td>admin</td>\n",
       "      <td>2106734.0</td>\n",
       "      <td>1329604.0</td>\n",
       "    </tr>\n",
       "    <tr>\n",
       "      <th>7</th>\n",
       "      <td>Corrientes</td>\n",
       "      <td>-27.4833</td>\n",
       "      <td>-58.8167</td>\n",
       "      <td>Argentina</td>\n",
       "      <td>AR</td>\n",
       "      <td>Corrientes</td>\n",
       "      <td>admin</td>\n",
       "      <td>352646.0</td>\n",
       "      <td>352646.0</td>\n",
       "    </tr>\n",
       "    <tr>\n",
       "      <th>8</th>\n",
       "      <td>Paraná</td>\n",
       "      <td>-31.7331</td>\n",
       "      <td>-60.5297</td>\n",
       "      <td>Argentina</td>\n",
       "      <td>AR</td>\n",
       "      <td>Entre Ríos</td>\n",
       "      <td>admin</td>\n",
       "      <td>247863.0</td>\n",
       "      <td>247863.0</td>\n",
       "    </tr>\n",
       "    <tr>\n",
       "      <th>9</th>\n",
       "      <td>Formosa</td>\n",
       "      <td>-26.1833</td>\n",
       "      <td>-58.1833</td>\n",
       "      <td>Argentina</td>\n",
       "      <td>AR</td>\n",
       "      <td>Formosa</td>\n",
       "      <td>admin</td>\n",
       "      <td>234000.0</td>\n",
       "      <td>222226.0</td>\n",
       "    </tr>\n",
       "    <tr>\n",
       "      <th>10</th>\n",
       "      <td>San Salvador de Jujuy</td>\n",
       "      <td>-24.1833</td>\n",
       "      <td>-65.3000</td>\n",
       "      <td>Argentina</td>\n",
       "      <td>AR</td>\n",
       "      <td>Jujuy</td>\n",
       "      <td>admin</td>\n",
       "      <td>321789.0</td>\n",
       "      <td>321789.0</td>\n",
       "    </tr>\n",
       "    <tr>\n",
       "      <th>11</th>\n",
       "      <td>Santa Rosa</td>\n",
       "      <td>-36.6167</td>\n",
       "      <td>-64.2833</td>\n",
       "      <td>Argentina</td>\n",
       "      <td>AR</td>\n",
       "      <td>La Pampa</td>\n",
       "      <td>admin</td>\n",
       "      <td>102880.0</td>\n",
       "      <td>102860.0</td>\n",
       "    </tr>\n",
       "    <tr>\n",
       "      <th>12</th>\n",
       "      <td>La Rioja</td>\n",
       "      <td>-29.4125</td>\n",
       "      <td>-66.8542</td>\n",
       "      <td>Argentina</td>\n",
       "      <td>AR</td>\n",
       "      <td>La Rioja</td>\n",
       "      <td>admin</td>\n",
       "      <td>180995.0</td>\n",
       "      <td>180995.0</td>\n",
       "    </tr>\n",
       "    <tr>\n",
       "      <th>13</th>\n",
       "      <td>Mendoza</td>\n",
       "      <td>-32.8833</td>\n",
       "      <td>-68.8167</td>\n",
       "      <td>Argentina</td>\n",
       "      <td>AR</td>\n",
       "      <td>Mendoza</td>\n",
       "      <td>admin</td>\n",
       "      <td>115041.0</td>\n",
       "      <td>114822.0</td>\n",
       "    </tr>\n",
       "    <tr>\n",
       "      <th>14</th>\n",
       "      <td>Posadas</td>\n",
       "      <td>-27.3667</td>\n",
       "      <td>-55.9000</td>\n",
       "      <td>Argentina</td>\n",
       "      <td>AR</td>\n",
       "      <td>Misiones</td>\n",
       "      <td>admin</td>\n",
       "      <td>275988.0</td>\n",
       "      <td>275988.0</td>\n",
       "    </tr>\n",
       "    <tr>\n",
       "      <th>15</th>\n",
       "      <td>Neuquén</td>\n",
       "      <td>-38.9525</td>\n",
       "      <td>-68.0642</td>\n",
       "      <td>Argentina</td>\n",
       "      <td>AR</td>\n",
       "      <td>Neuquén</td>\n",
       "      <td>admin</td>\n",
       "      <td>231198.0</td>\n",
       "      <td>231198.0</td>\n",
       "    </tr>\n",
       "    <tr>\n",
       "      <th>16</th>\n",
       "      <td>Viedma</td>\n",
       "      <td>-40.8000</td>\n",
       "      <td>-63.0000</td>\n",
       "      <td>Argentina</td>\n",
       "      <td>AR</td>\n",
       "      <td>Río Negro</td>\n",
       "      <td>admin</td>\n",
       "      <td>62000.0</td>\n",
       "      <td>62000.0</td>\n",
       "    </tr>\n",
       "    <tr>\n",
       "      <th>17</th>\n",
       "      <td>Salta</td>\n",
       "      <td>-24.7833</td>\n",
       "      <td>-65.4167</td>\n",
       "      <td>Argentina</td>\n",
       "      <td>AR</td>\n",
       "      <td>Salta</td>\n",
       "      <td>admin</td>\n",
       "      <td>535303.0</td>\n",
       "      <td>535303.0</td>\n",
       "    </tr>\n",
       "    <tr>\n",
       "      <th>18</th>\n",
       "      <td>San Juan</td>\n",
       "      <td>-31.5342</td>\n",
       "      <td>-68.5261</td>\n",
       "      <td>Argentina</td>\n",
       "      <td>AR</td>\n",
       "      <td>San Juan</td>\n",
       "      <td>admin</td>\n",
       "      <td>471389.0</td>\n",
       "      <td>471389.0</td>\n",
       "    </tr>\n",
       "    <tr>\n",
       "      <th>19</th>\n",
       "      <td>San Luis</td>\n",
       "      <td>-33.3000</td>\n",
       "      <td>-66.3333</td>\n",
       "      <td>Argentina</td>\n",
       "      <td>AR</td>\n",
       "      <td>San Luis</td>\n",
       "      <td>admin</td>\n",
       "      <td>169947.0</td>\n",
       "      <td>169947.0</td>\n",
       "    </tr>\n",
       "    <tr>\n",
       "      <th>20</th>\n",
       "      <td>Río Gallegos</td>\n",
       "      <td>-51.6233</td>\n",
       "      <td>-69.2161</td>\n",
       "      <td>Argentina</td>\n",
       "      <td>AR</td>\n",
       "      <td>Santa Cruz</td>\n",
       "      <td>admin</td>\n",
       "      <td>95796.0</td>\n",
       "      <td>95796.0</td>\n",
       "    </tr>\n",
       "    <tr>\n",
       "      <th>21</th>\n",
       "      <td>Santa Fe</td>\n",
       "      <td>-31.6333</td>\n",
       "      <td>-60.7000</td>\n",
       "      <td>Argentina</td>\n",
       "      <td>AR</td>\n",
       "      <td>Santa Fe</td>\n",
       "      <td>admin</td>\n",
       "      <td>405683.0</td>\n",
       "      <td>405683.0</td>\n",
       "    </tr>\n",
       "    <tr>\n",
       "      <th>22</th>\n",
       "      <td>Santiago del Estero</td>\n",
       "      <td>-27.7833</td>\n",
       "      <td>-64.2667</td>\n",
       "      <td>Argentina</td>\n",
       "      <td>AR</td>\n",
       "      <td>Santiago del Estero</td>\n",
       "      <td>admin</td>\n",
       "      <td>911506.0</td>\n",
       "      <td>430280.0</td>\n",
       "    </tr>\n",
       "    <tr>\n",
       "      <th>23</th>\n",
       "      <td>Ushuaia</td>\n",
       "      <td>-54.8019</td>\n",
       "      <td>-68.3031</td>\n",
       "      <td>Argentina</td>\n",
       "      <td>AR</td>\n",
       "      <td>Tierra del Fuego</td>\n",
       "      <td>admin</td>\n",
       "      <td>56956.0</td>\n",
       "      <td>56956.0</td>\n",
       "    </tr>\n",
       "    <tr>\n",
       "      <th>24</th>\n",
       "      <td>San Miguel de Tucumán</td>\n",
       "      <td>-26.8167</td>\n",
       "      <td>-65.2167</td>\n",
       "      <td>Argentina</td>\n",
       "      <td>AR</td>\n",
       "      <td>Tucumán</td>\n",
       "      <td>admin</td>\n",
       "      <td>605767.0</td>\n",
       "      <td>605767.0</td>\n",
       "    </tr>\n",
       "  </tbody>\n",
       "</table>\n",
       "</div>"
      ],
      "text/plain": [
       "                     city      lat      lng    country iso2  \\\n",
       "1                La Plata -34.9211 -57.9544  Argentina   AR   \n",
       "2            Buenos Aires -34.6033 -58.3817  Argentina   AR   \n",
       "3               Catamarca -28.4667 -65.7833  Argentina   AR   \n",
       "4             Resistencia -27.4514 -58.9867  Argentina   AR   \n",
       "5                  Rawson -43.3000 -65.1000  Argentina   AR   \n",
       "6                 Córdoba -31.4167 -64.1833  Argentina   AR   \n",
       "7              Corrientes -27.4833 -58.8167  Argentina   AR   \n",
       "8                  Paraná -31.7331 -60.5297  Argentina   AR   \n",
       "9                 Formosa -26.1833 -58.1833  Argentina   AR   \n",
       "10  San Salvador de Jujuy -24.1833 -65.3000  Argentina   AR   \n",
       "11             Santa Rosa -36.6167 -64.2833  Argentina   AR   \n",
       "12               La Rioja -29.4125 -66.8542  Argentina   AR   \n",
       "13                Mendoza -32.8833 -68.8167  Argentina   AR   \n",
       "14                Posadas -27.3667 -55.9000  Argentina   AR   \n",
       "15                Neuquén -38.9525 -68.0642  Argentina   AR   \n",
       "16                 Viedma -40.8000 -63.0000  Argentina   AR   \n",
       "17                  Salta -24.7833 -65.4167  Argentina   AR   \n",
       "18               San Juan -31.5342 -68.5261  Argentina   AR   \n",
       "19               San Luis -33.3000 -66.3333  Argentina   AR   \n",
       "20           Río Gallegos -51.6233 -69.2161  Argentina   AR   \n",
       "21               Santa Fe -31.6333 -60.7000  Argentina   AR   \n",
       "22    Santiago del Estero -27.7833 -64.2667  Argentina   AR   \n",
       "23                Ushuaia -54.8019 -68.3031  Argentina   AR   \n",
       "24  San Miguel de Tucumán -26.8167 -65.2167  Argentina   AR   \n",
       "\n",
       "             admin_name  capital  population  population_proper  \n",
       "1          Buenos Aires    admin    193144.0           193144.0  \n",
       "2       Capital Federal  primary  16710000.0          3054300.0  \n",
       "3             Catamarca    admin    159139.0           159139.0  \n",
       "4                 Chaco    admin    291720.0           291720.0  \n",
       "5                Chubut    admin     24616.0            24616.0  \n",
       "6               Córdoba    admin   2106734.0          1329604.0  \n",
       "7            Corrientes    admin    352646.0           352646.0  \n",
       "8            Entre Ríos    admin    247863.0           247863.0  \n",
       "9               Formosa    admin    234000.0           222226.0  \n",
       "10                Jujuy    admin    321789.0           321789.0  \n",
       "11             La Pampa    admin    102880.0           102860.0  \n",
       "12             La Rioja    admin    180995.0           180995.0  \n",
       "13              Mendoza    admin    115041.0           114822.0  \n",
       "14             Misiones    admin    275988.0           275988.0  \n",
       "15              Neuquén    admin    231198.0           231198.0  \n",
       "16            Río Negro    admin     62000.0            62000.0  \n",
       "17                Salta    admin    535303.0           535303.0  \n",
       "18             San Juan    admin    471389.0           471389.0  \n",
       "19             San Luis    admin    169947.0           169947.0  \n",
       "20           Santa Cruz    admin     95796.0            95796.0  \n",
       "21             Santa Fe    admin    405683.0           405683.0  \n",
       "22  Santiago del Estero    admin    911506.0           430280.0  \n",
       "23     Tierra del Fuego    admin     56956.0            56956.0  \n",
       "24              Tucumán    admin    605767.0           605767.0  "
      ]
     },
     "execution_count": 107,
     "metadata": {},
     "output_type": "execute_result"
    }
   ],
   "source": [
    "df_ug"
   ]
  },
  {
   "cell_type": "markdown",
   "metadata": {},
   "source": [
    "Se modifican los nombres de dos provincias para que coincidan con los datasets"
   ]
  },
  {
   "cell_type": "code",
   "execution_count": 106,
   "metadata": {},
   "outputs": [],
   "source": [
    "df_ug.loc[(df_ug['admin_name'] == 'Buenos Aires, Ciudad Autónoma de') , 'admin_name'] = 'Capital Federal'\n",
    "df_ug.loc[(df_ug['admin_name'] == 'Tierra del Fuego, Antártida e Islas del Atlántico Sur') , 'admin_name'] = 'Tierra del Fuego'"
   ]
  },
  {
   "cell_type": "markdown",
   "metadata": {},
   "source": [
    "Se guarda el archivo de Provincias y CABA"
   ]
  },
  {
   "cell_type": "code",
   "execution_count": 108,
   "metadata": {},
   "outputs": [],
   "source": [
    "df_ug.to_excel('Dataframe/df_ug.xlsx',index=True, sheet_name='Ubicación Geográfica')"
   ]
  },
  {
   "cell_type": "markdown",
   "metadata": {},
   "source": [
    "### KPI\n",
    "\n",
    "Se proponen 2 KPIS\n",
    "\n",
    "1. Aumentar en un 2% el acceso al servicio de internet para el próximo trimestre, cada 100 hogares, por provincia\n",
    "2. Aumentar ebn un 2% el acceso via Fibra óptica para el próximo trimestre"
   ]
  }
 ],
 "metadata": {
  "kernelspec": {
   "display_name": "Python 3",
   "language": "python",
   "name": "python3"
  },
  "language_info": {
   "codemirror_mode": {
    "name": "ipython",
    "version": 3
   },
   "file_extension": ".py",
   "mimetype": "text/x-python",
   "name": "python",
   "nbconvert_exporter": "python",
   "pygments_lexer": "ipython3",
   "version": "3.10.10"
  }
 },
 "nbformat": 4,
 "nbformat_minor": 2
}
